{
 "cells": [
  {
   "cell_type": "code",
   "execution_count": 1,
   "id": "55ffc2b4-afa3-45e8-9ea6-8553f0128606",
   "metadata": {
    "execution": {
     "iopub.execute_input": "2025-07-20T14:29:52.153488Z",
     "iopub.status.busy": "2025-07-20T14:29:52.153300Z",
     "iopub.status.idle": "2025-07-20T14:29:52.160199Z",
     "shell.execute_reply": "2025-07-20T14:29:52.158321Z",
     "shell.execute_reply.started": "2025-07-20T14:29:52.153472Z"
    }
   },
   "outputs": [],
   "source": [
    "import os\n",
    "os.chdir('./../')"
   ]
  },
  {
   "cell_type": "code",
   "execution_count": 22,
   "id": "ed79f1ea-4fad-4b7b-b853-0dd1b2430b35",
   "metadata": {
    "execution": {
     "iopub.execute_input": "2025-07-20T14:59:42.454585Z",
     "iopub.status.busy": "2025-07-20T14:59:42.453629Z",
     "iopub.status.idle": "2025-07-20T14:59:42.464544Z",
     "shell.execute_reply": "2025-07-20T14:59:42.463714Z",
     "shell.execute_reply.started": "2025-07-20T14:59:42.454555Z"
    }
   },
   "outputs": [],
   "source": [
    "import dotenv\n",
    "import random\n",
    "import sqlite3\n",
    "from typing import Annotated, TypedDict\n",
    "\n",
    "import gradio as gr\n",
    "from IPython.display import Image, display\n",
    "from langchain.agents import Tool\n",
    "from langchain_community.utilities import GoogleSerperAPIWrapper\n",
    "from langchain_google_genai import ChatGoogleGenerativeAI\n",
    "from langgraph import graph, prebuilt\n",
    "from langgraph.checkpoint.memory import MemorySaver\n",
    "from langgraph.checkpoint.sqlite import SqliteSaver\n",
    "from pydantic import BaseModel\n",
    "\n",
    "dotenv.load_dotenv(override=True)\n",
    "\n",
    "from common.constants import Constants\n",
    "from common.tools.pushover import Pushover"
   ]
  },
  {
   "cell_type": "code",
   "execution_count": 3,
   "id": "b50ab1dd-3f2b-4192-9ac8-f32d3b81f9e8",
   "metadata": {
    "execution": {
     "iopub.execute_input": "2025-07-20T14:29:55.789457Z",
     "iopub.status.busy": "2025-07-20T14:29:55.788702Z",
     "iopub.status.idle": "2025-07-20T14:29:55.794158Z",
     "shell.execute_reply": "2025-07-20T14:29:55.793251Z",
     "shell.execute_reply.started": "2025-07-20T14:29:55.789430Z"
    }
   },
   "outputs": [],
   "source": [
    "_ASSISTANT = 'assistant'\n",
    "_CONTENT = 'content'\n",
    "_NODE_CHATBOT = 'chatbot'\n",
    "_NODE_FIRST = 'first_node'\n",
    "_ROLE = 'role'\n",
    "_TOOL_SEARCH = 'search'\n",
    "_USER = 'user'"
   ]
  },
  {
   "cell_type": "code",
   "execution_count": 4,
   "id": "da85e71e-c304-4664-b59d-b707a1ba5976",
   "metadata": {
    "execution": {
     "iopub.execute_input": "2025-07-20T14:29:55.795505Z",
     "iopub.status.busy": "2025-07-20T14:29:55.795216Z",
     "iopub.status.idle": "2025-07-20T14:29:57.769052Z",
     "shell.execute_reply": "2025-07-20T14:29:57.768240Z",
     "shell.execute_reply.started": "2025-07-20T14:29:55.795479Z"
    }
   },
   "outputs": [
    {
     "data": {
      "text/plain": [
       "'Paris is the capital and largest city of France. With an estimated population of 2,048,472 in January 2025 in an area of more than 105 km2 (41 sq mi), ... Paris is the capital and most populous city of France. Situated on the Seine River, in the north of the country, it is in the centre of the Île-de-France ... Paris is the capital of France, the largest country of Europe with 550 000 km2 (65 millions inhabitants). Paris has 2.234 million inhabitants end 2011. The capital of France has been Paris since its liberation in 1944. Paris, city and capital of France, located along the Seine River, in the north-central part of the country. Paris is one of the world\\'s most ... Paris is the city of romance par excellence, the fashion capital and the best example of French art de vivre. Exploring Paris is an essential rite of passage ... The capital and by far the most important city of France is Paris, one of the world\\'s preeminent cultural and commercial centres. Paris is the capital and most populous city of France. Situated on the Seine River, in the north of the country, it is in the centre of the Île- ... 7 likes, 0 comments - iflytours_ on January 2, 2025: \"Paris, the capital of France, is often referred to as the \"City of Light\" and is ... Dive into the charm of Paris, the capital of France! Explore its rich history, iconic attractions, and delectable cuisine in our guide.'"
      ]
     },
     "execution_count": 4,
     "metadata": {},
     "output_type": "execute_result"
    }
   ],
   "source": [
    "serper = GoogleSerperAPIWrapper()\n",
    "serper.run(\"What is the capital of France?\")"
   ]
  },
  {
   "cell_type": "code",
   "execution_count": 5,
   "id": "ead7906e-c3d8-49a5-af8a-b60499ed78b2",
   "metadata": {
    "execution": {
     "iopub.execute_input": "2025-07-20T14:29:57.770665Z",
     "iopub.status.busy": "2025-07-20T14:29:57.770315Z",
     "iopub.status.idle": "2025-07-20T14:29:57.776218Z",
     "shell.execute_reply": "2025-07-20T14:29:57.775211Z",
     "shell.execute_reply.started": "2025-07-20T14:29:57.770638Z"
    }
   },
   "outputs": [],
   "source": [
    "tool_search =Tool(name=_TOOL_SEARCH, func=serper.run, description=\"Useful for when you need more information from an online search\")"
   ]
  },
  {
   "cell_type": "code",
   "execution_count": 6,
   "id": "8074b3bb-a580-41df-930e-76d31b8ab540",
   "metadata": {
    "execution": {
     "iopub.execute_input": "2025-07-20T14:29:57.777491Z",
     "iopub.status.busy": "2025-07-20T14:29:57.777013Z",
     "iopub.status.idle": "2025-07-20T14:30:00.593258Z",
     "shell.execute_reply": "2025-07-20T14:30:00.592463Z",
     "shell.execute_reply.started": "2025-07-20T14:29:57.777462Z"
    }
   },
   "outputs": [
    {
     "data": {
      "text/plain": [
       "'Paris is the capital and largest city of France. With an estimated population of 2,048,472 in January 2025 in an area of more than 105 km2 (41 sq mi), ... Paris is the capital and most populous city of France. Situated on the Seine River, in the north of the country, it is in the centre of the Île-de-France ... Paris is the capital of France, the largest country of Europe with 550 000 km2 (65 millions inhabitants). Paris has 2.234 million inhabitants end 2011. The capital of France has been Paris since its liberation in 1944. Paris, city and capital of France, located along the Seine River, in the north-central part of the country. Paris is one of the world\\'s most ... Paris is the city of romance par excellence, the fashion capital and the best example of French art de vivre. Exploring Paris is an essential rite of passage ... Paris is the capital and most populous city of France. Situated on the Seine River, in the north of the country, it is in the centre of the Île- ... 7 likes, 0 comments - iflytours_ on January 2, 2025: \"Paris, the capital of France, is often referred to as the \"City of Light\" and is ... The capital and by far the most important city of France is Paris, one of the world\\'s preeminent cultural and commercial centres. Dive into the charm of Paris, the capital of France! Explore its rich history, iconic attractions, and delectable cuisine in our guide.'"
      ]
     },
     "execution_count": 6,
     "metadata": {},
     "output_type": "execute_result"
    }
   ],
   "source": [
    "tool_search.invoke(\"What is the capital of France?\")"
   ]
  },
  {
   "cell_type": "code",
   "execution_count": 7,
   "id": "f41a845d-d0e7-4e3e-bb1c-65771ff7635c",
   "metadata": {
    "execution": {
     "iopub.execute_input": "2025-07-20T14:30:00.595269Z",
     "iopub.status.busy": "2025-07-20T14:30:00.594312Z",
     "iopub.status.idle": "2025-07-20T14:30:01.834911Z",
     "shell.execute_reply": "2025-07-20T14:30:01.833815Z",
     "shell.execute_reply.started": "2025-07-20T14:30:00.595240Z"
    }
   },
   "outputs": [],
   "source": [
    "Pushover.push('Hello')"
   ]
  },
  {
   "cell_type": "code",
   "execution_count": 8,
   "id": "efe78aa5-eb33-4369-879a-b935e35e9311",
   "metadata": {
    "execution": {
     "iopub.execute_input": "2025-07-20T14:30:01.836454Z",
     "iopub.status.busy": "2025-07-20T14:30:01.835884Z",
     "iopub.status.idle": "2025-07-20T14:30:01.840953Z",
     "shell.execute_reply": "2025-07-20T14:30:01.840016Z",
     "shell.execute_reply.started": "2025-07-20T14:30:01.836431Z"
    }
   },
   "outputs": [],
   "source": [
    "tool_push = Tool(name=\"send_push_notification\", func=Pushover.push, description=\"useful for when you want to send a push notification\")"
   ]
  },
  {
   "cell_type": "code",
   "execution_count": 9,
   "id": "8c5d0613-09b2-4291-9c77-b5b2fe9a33cd",
   "metadata": {
    "execution": {
     "iopub.execute_input": "2025-07-20T14:30:01.841993Z",
     "iopub.status.busy": "2025-07-20T14:30:01.841764Z",
     "iopub.status.idle": "2025-07-20T14:30:03.127910Z",
     "shell.execute_reply": "2025-07-20T14:30:03.126926Z",
     "shell.execute_reply.started": "2025-07-20T14:30:01.841977Z"
    }
   },
   "outputs": [],
   "source": [
    "tool_push.invoke(\"Hello, me again!\")"
   ]
  },
  {
   "cell_type": "code",
   "execution_count": 10,
   "id": "12aa0bed-3c86-4533-982c-677ec3d451fb",
   "metadata": {
    "execution": {
     "iopub.execute_input": "2025-07-20T14:30:03.129157Z",
     "iopub.status.busy": "2025-07-20T14:30:03.128837Z",
     "iopub.status.idle": "2025-07-20T14:30:03.134329Z",
     "shell.execute_reply": "2025-07-20T14:30:03.133149Z",
     "shell.execute_reply.started": "2025-07-20T14:30:03.129130Z"
    }
   },
   "outputs": [],
   "source": [
    "tools = [tool_search, tool_push]"
   ]
  },
  {
   "cell_type": "code",
   "execution_count": 11,
   "id": "25da3212-2091-47a0-9de2-94860e161d3b",
   "metadata": {
    "execution": {
     "iopub.execute_input": "2025-07-20T14:30:03.135848Z",
     "iopub.status.busy": "2025-07-20T14:30:03.135288Z",
     "iopub.status.idle": "2025-07-20T14:30:03.169283Z",
     "shell.execute_reply": "2025-07-20T14:30:03.168181Z",
     "shell.execute_reply.started": "2025-07-20T14:30:03.135826Z"
    }
   },
   "outputs": [],
   "source": [
    "class State(TypedDict):\n",
    "    messages: Annotated[list, graph.add_messages]"
   ]
  },
  {
   "cell_type": "code",
   "execution_count": 12,
   "id": "b15e47e5-0d63-4790-8f40-0028422eb857",
   "metadata": {
    "execution": {
     "iopub.execute_input": "2025-07-20T14:30:03.172574Z",
     "iopub.status.busy": "2025-07-20T14:30:03.172238Z",
     "iopub.status.idle": "2025-07-20T14:30:03.177577Z",
     "shell.execute_reply": "2025-07-20T14:30:03.176660Z",
     "shell.execute_reply.started": "2025-07-20T14:30:03.172529Z"
    }
   },
   "outputs": [],
   "source": [
    "graph_builder = graph.StateGraph(State)"
   ]
  },
  {
   "cell_type": "code",
   "execution_count": 13,
   "id": "3e9a6c0e-2b99-401a-95a9-cba1cb74bf69",
   "metadata": {
    "execution": {
     "iopub.execute_input": "2025-07-20T14:30:03.178647Z",
     "iopub.status.busy": "2025-07-20T14:30:03.178382Z",
     "iopub.status.idle": "2025-07-20T14:30:03.223149Z",
     "shell.execute_reply": "2025-07-20T14:30:03.222305Z",
     "shell.execute_reply.started": "2025-07-20T14:30:03.178608Z"
    }
   },
   "outputs": [],
   "source": [
    "llm = ChatGoogleGenerativeAI(model=Constants.GEMINI_MODEL_LITE)\n",
    "llm_with_tools = llm.bind_tools(tools)"
   ]
  },
  {
   "cell_type": "code",
   "execution_count": 14,
   "id": "82f7fcb9-8af3-4beb-a1dc-35c4c3291d24",
   "metadata": {
    "execution": {
     "iopub.execute_input": "2025-07-20T14:30:03.224748Z",
     "iopub.status.busy": "2025-07-20T14:30:03.224199Z",
     "iopub.status.idle": "2025-07-20T14:30:03.229643Z",
     "shell.execute_reply": "2025-07-20T14:30:03.228535Z",
     "shell.execute_reply.started": "2025-07-20T14:30:03.224719Z"
    }
   },
   "outputs": [],
   "source": [
    "def chatbot(state: State) -> State:\n",
    "    return {\"messages\": [llm_with_tools.invoke(state[\"messages\"])]}"
   ]
  },
  {
   "cell_type": "code",
   "execution_count": 15,
   "id": "fba2ccbf-feff-47f4-a091-a4c50bab4563",
   "metadata": {
    "execution": {
     "iopub.execute_input": "2025-07-20T14:30:03.230718Z",
     "iopub.status.busy": "2025-07-20T14:30:03.230475Z",
     "iopub.status.idle": "2025-07-20T14:30:03.254606Z",
     "shell.execute_reply": "2025-07-20T14:30:03.253796Z",
     "shell.execute_reply.started": "2025-07-20T14:30:03.230702Z"
    }
   },
   "outputs": [
    {
     "data": {
      "text/plain": [
       "<langgraph.graph.state.StateGraph at 0x7fcabd43c260>"
      ]
     },
     "execution_count": 15,
     "metadata": {},
     "output_type": "execute_result"
    }
   ],
   "source": [
    "graph_builder.add_node(\"chatbot\", chatbot)\n",
    "graph_builder.add_node(\"tools\", prebuilt.ToolNode(tools=tools))"
   ]
  },
  {
   "cell_type": "code",
   "execution_count": 16,
   "id": "da18ca69-eb69-4490-a763-27a605359e7b",
   "metadata": {
    "execution": {
     "iopub.execute_input": "2025-07-20T14:30:03.256679Z",
     "iopub.status.busy": "2025-07-20T14:30:03.255789Z",
     "iopub.status.idle": "2025-07-20T14:30:03.262309Z",
     "shell.execute_reply": "2025-07-20T14:30:03.261583Z",
     "shell.execute_reply.started": "2025-07-20T14:30:03.256643Z"
    }
   },
   "outputs": [
    {
     "data": {
      "text/plain": [
       "<langgraph.graph.state.StateGraph at 0x7fcabd43c260>"
      ]
     },
     "execution_count": 16,
     "metadata": {},
     "output_type": "execute_result"
    }
   ],
   "source": [
    "graph_builder.add_conditional_edges(\"chatbot\", prebuilt.tools_condition, \"tools\")"
   ]
  },
  {
   "cell_type": "code",
   "execution_count": 17,
   "id": "a7bfdf69-de66-4fdf-9709-e733c956b12c",
   "metadata": {
    "execution": {
     "iopub.execute_input": "2025-07-20T14:30:03.263717Z",
     "iopub.status.busy": "2025-07-20T14:30:03.263138Z",
     "iopub.status.idle": "2025-07-20T14:30:03.268433Z",
     "shell.execute_reply": "2025-07-20T14:30:03.267735Z",
     "shell.execute_reply.started": "2025-07-20T14:30:03.263700Z"
    }
   },
   "outputs": [
    {
     "data": {
      "text/plain": [
       "<langgraph.graph.state.StateGraph at 0x7fcabd43c260>"
      ]
     },
     "execution_count": 17,
     "metadata": {},
     "output_type": "execute_result"
    }
   ],
   "source": [
    "graph_builder.add_edge(\"tools\", \"chatbot\")\n",
    "graph_builder.add_edge(graph.START, \"chatbot\")"
   ]
  },
  {
   "cell_type": "code",
   "execution_count": 18,
   "id": "61b577fb-c170-443f-b872-321880d1c336",
   "metadata": {
    "execution": {
     "iopub.execute_input": "2025-07-20T14:30:03.269512Z",
     "iopub.status.busy": "2025-07-20T14:30:03.269213Z",
     "iopub.status.idle": "2025-07-20T14:30:03.430389Z",
     "shell.execute_reply": "2025-07-20T14:30:03.428536Z",
     "shell.execute_reply.started": "2025-07-20T14:30:03.269496Z"
    }
   },
   "outputs": [
    {
     "data": {
      "image/png": "[encoded data removed]",
      "text/plain": [
       "<IPython.core.display.Image object>"
      ]
     },
     "metadata": {},
     "output_type": "display_data"
    }
   ],
   "source": [
    "state_graph = graph_builder.compile()\n",
    "display(Image(state_graph.get_graph().draw_mermaid_png()))"
   ]
  },
  {
   "cell_type": "code",
   "execution_count": 19,
   "id": "baff88c4-0882-41ce-aa30-d83e82967b99",
   "metadata": {
    "execution": {
     "iopub.execute_input": "2025-07-20T14:30:03.432218Z",
     "iopub.status.busy": "2025-07-20T14:30:03.431783Z",
     "iopub.status.idle": "2025-07-20T14:30:03.439804Z",
     "shell.execute_reply": "2025-07-20T14:30:03.438329Z",
     "shell.execute_reply.started": "2025-07-20T14:30:03.432186Z"
    }
   },
   "outputs": [],
   "source": [
    "def chat(user_input: str, history):\n",
    "    result = state_graph.invoke({\"messages\": [{\"role\": \"user\", \"content\": user_input}]})\n",
    "    return result[\"messages\"][-1].content"
   ]
  },
  {
   "cell_type": "code",
   "execution_count": 20,
   "id": "f63b512c-2bb5-4b99-944b-73a8fae30809",
   "metadata": {
    "execution": {
     "iopub.execute_input": "2025-07-20T14:30:03.442209Z",
     "iopub.status.busy": "2025-07-20T14:30:03.441377Z",
     "iopub.status.idle": "2025-07-20T14:30:03.956556Z",
     "shell.execute_reply": "2025-07-20T14:30:03.955587Z",
     "shell.execute_reply.started": "2025-07-20T14:30:03.442179Z"
    }
   },
   "outputs": [
    {
     "name": "stdout",
     "output_type": "stream",
     "text": [
      "* Running on local URL:  http://127.0.0.1:7860\n",
      "* To create a public link, set `share=True` in `launch()`.\n"
     ]
    },
    {
     "data": {
      "text/html": [
       "<div><iframe src=\"http://127.0.0.1:7860/\" width=\"100%\" height=\"500\" allow=\"autoplay; camera; microphone; clipboard-read; clipboard-write;\" frameborder=\"0\" allowfullscreen></iframe></div>"
      ],
      "text/plain": [
       "<IPython.core.display.HTML object>"
      ]
     },
     "metadata": {},
     "output_type": "display_data"
    },
    {
     "data": {
      "text/plain": []
     },
     "execution_count": 20,
     "metadata": {},
     "output_type": "execute_result"
    }
   ],
   "source": [
    "gr.ChatInterface(chat, type=\"messages\").launch()"
   ]
  },
  {
   "cell_type": "code",
   "execution_count": 23,
   "id": "3ded9af1-dab5-4c46-bd83-4f9b9b42d365",
   "metadata": {
    "execution": {
     "iopub.execute_input": "2025-07-20T15:00:12.089258Z",
     "iopub.status.busy": "2025-07-20T15:00:12.088924Z",
     "iopub.status.idle": "2025-07-20T15:00:12.093898Z",
     "shell.execute_reply": "2025-07-20T15:00:12.092955Z",
     "shell.execute_reply.started": "2025-07-20T15:00:12.089239Z"
    }
   },
   "outputs": [],
   "source": [
    "memory = MemorySaver()"
   ]
  },
  {
   "cell_type": "code",
   "execution_count": 24,
   "id": "9f750346-690f-4600-8ffe-1d222d56901f",
   "metadata": {
    "execution": {
     "iopub.execute_input": "2025-07-20T15:01:57.912189Z",
     "iopub.status.busy": "2025-07-20T15:01:57.911457Z",
     "iopub.status.idle": "2025-07-20T15:01:58.055759Z",
     "shell.execute_reply": "2025-07-20T15:01:58.054849Z",
     "shell.execute_reply.started": "2025-07-20T15:01:57.912162Z"
    }
   },
   "outputs": [
    {
     "data": {
      "image/png": "[encoded data removed]",
      "text/plain": [
       "<IPython.core.display.Image object>"
      ]
     },
     "metadata": {},
     "output_type": "display_data"
    }
   ],
   "source": [
    "state_graph = graph_builder.compile(checkpointer=memory)\n",
    "display(Image(state_graph.get_graph().draw_mermaid_png()))"
   ]
  },
  {
   "cell_type": "code",
   "execution_count": 26,
   "id": "81a33be7-294b-432d-862a-fb410f128199",
   "metadata": {
    "execution": {
     "iopub.execute_input": "2025-07-20T15:03:57.677232Z",
     "iopub.status.busy": "2025-07-20T15:03:57.676982Z",
     "iopub.status.idle": "2025-07-20T15:03:57.922738Z",
     "shell.execute_reply": "2025-07-20T15:03:57.921633Z",
     "shell.execute_reply.started": "2025-07-20T15:03:57.677216Z"
    }
   },
   "outputs": [
    {
     "name": "stdout",
     "output_type": "stream",
     "text": [
      "* Running on local URL:  http://127.0.0.1:7862\n",
      "* To create a public link, set `share=True` in `launch()`.\n"
     ]
    },
    {
     "data": {
      "text/html": [
       "<div><iframe src=\"http://127.0.0.1:7862/\" width=\"100%\" height=\"500\" allow=\"autoplay; camera; microphone; clipboard-read; clipboard-write;\" frameborder=\"0\" allowfullscreen></iframe></div>"
      ],
      "text/plain": [
       "<IPython.core.display.HTML object>"
      ]
     },
     "metadata": {},
     "output_type": "display_data"
    },
    {
     "data": {
      "text/plain": []
     },
     "execution_count": 26,
     "metadata": {},
     "output_type": "execute_result"
    }
   ],
   "source": [
    "# Thread id here is the conversation thread.\n",
    "config = {\"configurable\": {\"thread_id\": \"1\"}}\n",
    "\n",
    "def chat(user_input: str, history):\n",
    "    result = state_graph.invoke({\"messages\": [{\"role\": \"user\", \"content\": user_input}]}, config=config)\n",
    "    return result[\"messages\"][-1].content\n",
    "\n",
    "gr.ChatInterface(chat, type=\"messages\").launch()"
   ]
  },
  {
   "cell_type": "code",
   "execution_count": 27,
   "id": "e13aa8e9-aa75-4a5e-ac13-ea4d5530a0f9",
   "metadata": {
    "execution": {
     "iopub.execute_input": "2025-07-20T15:09:40.134305Z",
     "iopub.status.busy": "2025-07-20T15:09:40.133901Z",
     "iopub.status.idle": "2025-07-20T15:09:40.142247Z",
     "shell.execute_reply": "2025-07-20T15:09:40.140905Z",
     "shell.execute_reply.started": "2025-07-20T15:09:40.134283Z"
    }
   },
   "outputs": [
    {
     "data": {
      "text/plain": [
       "StateSnapshot(values={'messages': [HumanMessage(content='Hello, my name is ABC', additional_kwargs={}, response_metadata={}, id='17376fe0-075b-407a-9409-84aad7726190'), AIMessage(content=\"Hi ABC, it's nice to meet you!\", additional_kwargs={}, response_metadata={'prompt_feedback': {'block_reason': 0, 'safety_ratings': []}, 'finish_reason': 'STOP', 'model_name': 'gemini-2.5-flash-lite-preview-06-17', 'safety_ratings': []}, id='run--50b027d7-f79c-4ce8-8acd-db855b2478e8-0', usage_metadata={'input_tokens': 100, 'output_tokens': 11, 'total_tokens': 111, 'input_token_details': {'cache_read': 0}}), HumanMessage(content='what is my name?', additional_kwargs={}, response_metadata={}, id='a2215f74-6e20-45c9-b5c9-3239efca1660'), AIMessage(content='Your name is ABC.', additional_kwargs={}, response_metadata={'prompt_feedback': {'block_reason': 0, 'safety_ratings': []}, 'finish_reason': 'STOP', 'model_name': 'gemini-2.5-flash-lite-preview-06-17', 'safety_ratings': []}, id='run--294d5909-a28f-4636-8f81-cc5d580d2559-0', usage_metadata={'input_tokens': 118, 'output_tokens': 5, 'total_tokens': 123, 'input_token_details': {'cache_read': 0}})]}, next=(), config={'configurable': {'thread_id': '1', 'checkpoint_ns': '', 'checkpoint_id': '1f0657ac-e046-68dc-8004-95f8dbc3bfa2'}}, metadata={'source': 'loop', 'writes': {'chatbot': {'messages': [AIMessage(content='Your name is ABC.', additional_kwargs={}, response_metadata={'prompt_feedback': {'block_reason': 0, 'safety_ratings': []}, 'finish_reason': 'STOP', 'model_name': 'gemini-2.5-flash-lite-preview-06-17', 'safety_ratings': []}, id='run--294d5909-a28f-4636-8f81-cc5d580d2559-0', usage_metadata={'input_tokens': 118, 'output_tokens': 5, 'total_tokens': 123, 'input_token_details': {'cache_read': 0}})]}}, 'step': 4, 'parents': {}, 'thread_id': '1'}, created_at='2025-07-20T15:04:16.529609+00:00', parent_config={'configurable': {'thread_id': '1', 'checkpoint_ns': '', 'checkpoint_id': '1f0657ac-db34-6cec-8003-1140bb87345e'}}, tasks=(), interrupts=())"
      ]
     },
     "execution_count": 27,
     "metadata": {},
     "output_type": "execute_result"
    }
   ],
   "source": [
    "state_graph.get_state(config)"
   ]
  },
  {
   "cell_type": "code",
   "execution_count": 28,
   "id": "f97ed2f0-d984-4f10-a886-dc77e2ee4d48",
   "metadata": {
    "execution": {
     "iopub.execute_input": "2025-07-20T15:09:58.098950Z",
     "iopub.status.busy": "2025-07-20T15:09:58.098642Z",
     "iopub.status.idle": "2025-07-20T15:09:58.108284Z",
     "shell.execute_reply": "2025-07-20T15:09:58.107119Z",
     "shell.execute_reply.started": "2025-07-20T15:09:58.098930Z"
    }
   },
   "outputs": [
    {
     "data": {
      "text/plain": [
       "[StateSnapshot(values={'messages': [HumanMessage(content='Hello, my name is ABC', additional_kwargs={}, response_metadata={}, id='17376fe0-075b-407a-9409-84aad7726190'), AIMessage(content=\"Hi ABC, it's nice to meet you!\", additional_kwargs={}, response_metadata={'prompt_feedback': {'block_reason': 0, 'safety_ratings': []}, 'finish_reason': 'STOP', 'model_name': 'gemini-2.5-flash-lite-preview-06-17', 'safety_ratings': []}, id='run--50b027d7-f79c-4ce8-8acd-db855b2478e8-0', usage_metadata={'input_tokens': 100, 'output_tokens': 11, 'total_tokens': 111, 'input_token_details': {'cache_read': 0}}), HumanMessage(content='what is my name?', additional_kwargs={}, response_metadata={}, id='a2215f74-6e20-45c9-b5c9-3239efca1660'), AIMessage(content='Your name is ABC.', additional_kwargs={}, response_metadata={'prompt_feedback': {'block_reason': 0, 'safety_ratings': []}, 'finish_reason': 'STOP', 'model_name': 'gemini-2.5-flash-lite-preview-06-17', 'safety_ratings': []}, id='run--294d5909-a28f-4636-8f81-cc5d580d2559-0', usage_metadata={'input_tokens': 118, 'output_tokens': 5, 'total_tokens': 123, 'input_token_details': {'cache_read': 0}})]}, next=(), config={'configurable': {'thread_id': '1', 'checkpoint_ns': '', 'checkpoint_id': '1f0657ac-e046-68dc-8004-95f8dbc3bfa2'}}, metadata={'source': 'loop', 'writes': {'chatbot': {'messages': [AIMessage(content='Your name is ABC.', additional_kwargs={}, response_metadata={'prompt_feedback': {'block_reason': 0, 'safety_ratings': []}, 'finish_reason': 'STOP', 'model_name': 'gemini-2.5-flash-lite-preview-06-17', 'safety_ratings': []}, id='run--294d5909-a28f-4636-8f81-cc5d580d2559-0', usage_metadata={'input_tokens': 118, 'output_tokens': 5, 'total_tokens': 123, 'input_token_details': {'cache_read': 0}})]}}, 'step': 4, 'parents': {}, 'thread_id': '1'}, created_at='2025-07-20T15:04:16.529609+00:00', parent_config={'configurable': {'thread_id': '1', 'checkpoint_ns': '', 'checkpoint_id': '1f0657ac-db34-6cec-8003-1140bb87345e'}}, tasks=(), interrupts=()),\n",
       " StateSnapshot(values={'messages': [HumanMessage(content='Hello, my name is ABC', additional_kwargs={}, response_metadata={}, id='17376fe0-075b-407a-9409-84aad7726190'), AIMessage(content=\"Hi ABC, it's nice to meet you!\", additional_kwargs={}, response_metadata={'prompt_feedback': {'block_reason': 0, 'safety_ratings': []}, 'finish_reason': 'STOP', 'model_name': 'gemini-2.5-flash-lite-preview-06-17', 'safety_ratings': []}, id='run--50b027d7-f79c-4ce8-8acd-db855b2478e8-0', usage_metadata={'input_tokens': 100, 'output_tokens': 11, 'total_tokens': 111, 'input_token_details': {'cache_read': 0}}), HumanMessage(content='what is my name?', additional_kwargs={}, response_metadata={}, id='a2215f74-6e20-45c9-b5c9-3239efca1660')]}, next=('chatbot',), config={'configurable': {'thread_id': '1', 'checkpoint_ns': '', 'checkpoint_id': '1f0657ac-db34-6cec-8003-1140bb87345e'}}, metadata={'source': 'loop', 'writes': None, 'step': 3, 'parents': {}, 'thread_id': '1'}, created_at='2025-07-20T15:04:15.998053+00:00', parent_config={'configurable': {'thread_id': '1', 'checkpoint_ns': '', 'checkpoint_id': '1f0657ac-db32-618f-8002-533297ebf613'}}, tasks=(PregelTask(id='1070f3dd-4766-9c6a-bf8b-581c4042ff77', name='chatbot', path=('__pregel_pull', 'chatbot'), error=None, interrupts=(), state=None, result={'messages': [AIMessage(content='Your name is ABC.', additional_kwargs={}, response_metadata={'prompt_feedback': {'block_reason': 0, 'safety_ratings': []}, 'finish_reason': 'STOP', 'model_name': 'gemini-2.5-flash-lite-preview-06-17', 'safety_ratings': []}, id='run--294d5909-a28f-4636-8f81-cc5d580d2559-0', usage_metadata={'input_tokens': 118, 'output_tokens': 5, 'total_tokens': 123, 'input_token_details': {'cache_read': 0}})]}),), interrupts=()),\n",
       " StateSnapshot(values={'messages': [HumanMessage(content='Hello, my name is ABC', additional_kwargs={}, response_metadata={}, id='17376fe0-075b-407a-9409-84aad7726190'), AIMessage(content=\"Hi ABC, it's nice to meet you!\", additional_kwargs={}, response_metadata={'prompt_feedback': {'block_reason': 0, 'safety_ratings': []}, 'finish_reason': 'STOP', 'model_name': 'gemini-2.5-flash-lite-preview-06-17', 'safety_ratings': []}, id='run--50b027d7-f79c-4ce8-8acd-db855b2478e8-0', usage_metadata={'input_tokens': 100, 'output_tokens': 11, 'total_tokens': 111, 'input_token_details': {'cache_read': 0}})]}, next=('__start__',), config={'configurable': {'thread_id': '1', 'checkpoint_ns': '', 'checkpoint_id': '1f0657ac-db32-618f-8002-533297ebf613'}}, metadata={'source': 'input', 'writes': {'__start__': {'messages': [{'role': 'user', 'content': 'what is my name?'}]}}, 'step': 2, 'parents': {}, 'thread_id': '1'}, created_at='2025-07-20T15:04:15.996939+00:00', parent_config={'configurable': {'thread_id': '1', 'checkpoint_ns': '', 'checkpoint_id': '1f0657ac-9bc5-63ca-8001-7cc42b801eeb'}}, tasks=(PregelTask(id='7465c555-0229-b9cc-24b9-fa9c9a71fabc', name='__start__', path=('__pregel_pull', '__start__'), error=None, interrupts=(), state=None, result={'messages': [{'role': 'user', 'content': 'what is my name?'}]}),), interrupts=()),\n",
       " StateSnapshot(values={'messages': [HumanMessage(content='Hello, my name is ABC', additional_kwargs={}, response_metadata={}, id='17376fe0-075b-407a-9409-84aad7726190'), AIMessage(content=\"Hi ABC, it's nice to meet you!\", additional_kwargs={}, response_metadata={'prompt_feedback': {'block_reason': 0, 'safety_ratings': []}, 'finish_reason': 'STOP', 'model_name': 'gemini-2.5-flash-lite-preview-06-17', 'safety_ratings': []}, id='run--50b027d7-f79c-4ce8-8acd-db855b2478e8-0', usage_metadata={'input_tokens': 100, 'output_tokens': 11, 'total_tokens': 111, 'input_token_details': {'cache_read': 0}})]}, next=(), config={'configurable': {'thread_id': '1', 'checkpoint_ns': '', 'checkpoint_id': '1f0657ac-9bc5-63ca-8001-7cc42b801eeb'}}, metadata={'source': 'loop', 'writes': {'chatbot': {'messages': [AIMessage(content=\"Hi ABC, it's nice to meet you!\", additional_kwargs={}, response_metadata={'prompt_feedback': {'block_reason': 0, 'safety_ratings': []}, 'finish_reason': 'STOP', 'model_name': 'gemini-2.5-flash-lite-preview-06-17', 'safety_ratings': []}, id='run--50b027d7-f79c-4ce8-8acd-db855b2478e8-0', usage_metadata={'input_tokens': 100, 'output_tokens': 11, 'total_tokens': 111, 'input_token_details': {'cache_read': 0}})]}}, 'step': 1, 'parents': {}, 'thread_id': '1'}, created_at='2025-07-20T15:04:09.346330+00:00', parent_config={'configurable': {'thread_id': '1', 'checkpoint_ns': '', 'checkpoint_id': '1f0657ac-9622-65d0-8000-842ffbab2119'}}, tasks=(), interrupts=()),\n",
       " StateSnapshot(values={'messages': [HumanMessage(content='Hello, my name is ABC', additional_kwargs={}, response_metadata={}, id='17376fe0-075b-407a-9409-84aad7726190')]}, next=('chatbot',), config={'configurable': {'thread_id': '1', 'checkpoint_ns': '', 'checkpoint_id': '1f0657ac-9622-65d0-8000-842ffbab2119'}}, metadata={'source': 'loop', 'writes': None, 'step': 0, 'parents': {}, 'thread_id': '1'}, created_at='2025-07-20T15:04:08.755317+00:00', parent_config={'configurable': {'thread_id': '1', 'checkpoint_ns': '', 'checkpoint_id': '1f0657ac-961b-615a-bfff-2dbaa86639fa'}}, tasks=(PregelTask(id='9a8a0de5-c76d-5313-f884-ac83f9af6ae6', name='chatbot', path=('__pregel_pull', 'chatbot'), error=None, interrupts=(), state=None, result={'messages': [AIMessage(content=\"Hi ABC, it's nice to meet you!\", additional_kwargs={}, response_metadata={'prompt_feedback': {'block_reason': 0, 'safety_ratings': []}, 'finish_reason': 'STOP', 'model_name': 'gemini-2.5-flash-lite-preview-06-17', 'safety_ratings': []}, id='run--50b027d7-f79c-4ce8-8acd-db855b2478e8-0', usage_metadata={'input_tokens': 100, 'output_tokens': 11, 'total_tokens': 111, 'input_token_details': {'cache_read': 0}})]}),), interrupts=()),\n",
       " StateSnapshot(values={'messages': []}, next=('__start__',), config={'configurable': {'thread_id': '1', 'checkpoint_ns': '', 'checkpoint_id': '1f0657ac-961b-615a-bfff-2dbaa86639fa'}}, metadata={'source': 'input', 'writes': {'__start__': {'messages': [{'role': 'user', 'content': 'Hello, my name is ABC'}]}}, 'step': -1, 'parents': {}, 'thread_id': '1'}, created_at='2025-07-20T15:04:08.752347+00:00', parent_config=None, tasks=(PregelTask(id='0b9b70b7-081e-c51f-e993-51ec71714e98', name='__start__', path=('__pregel_pull', '__start__'), error=None, interrupts=(), state=None, result={'messages': [{'role': 'user', 'content': 'Hello, my name is ABC'}]}),), interrupts=())]"
      ]
     },
     "execution_count": 28,
     "metadata": {},
     "output_type": "execute_result"
    }
   ],
   "source": [
    "list(state_graph.get_state_history(config))"
   ]
  },
  {
   "cell_type": "code",
   "execution_count": 30,
   "id": "8835c606-4326-4154-bca8-04b582dec7d2",
   "metadata": {
    "execution": {
     "iopub.execute_input": "2025-07-20T15:11:30.551090Z",
     "iopub.status.busy": "2025-07-20T15:11:30.550666Z",
     "iopub.status.idle": "2025-07-20T15:11:30.555437Z",
     "shell.execute_reply": "2025-07-20T15:11:30.554566Z",
     "shell.execute_reply.started": "2025-07-20T15:11:30.551070Z"
    }
   },
   "outputs": [],
   "source": [
    "db_path = './lang_graph_04/output/memory.db'\n",
    "conn = sqlite3.connect(db_path, check_same_thread=False)\n",
    "sql_memory = SqliteSaver(conn)"
   ]
  },
  {
   "cell_type": "code",
   "execution_count": 31,
   "id": "138f67df-429c-46ae-bafd-36f41ecb7792",
   "metadata": {
    "execution": {
     "iopub.execute_input": "2025-07-20T15:11:59.338512Z",
     "iopub.status.busy": "2025-07-20T15:11:59.338029Z",
     "iopub.status.idle": "2025-07-20T15:11:59.452638Z",
     "shell.execute_reply": "2025-07-20T15:11:59.451605Z",
     "shell.execute_reply.started": "2025-07-20T15:11:59.338490Z"
    }
   },
   "outputs": [
    {
     "data": {
      "image/png": "[encoded data removed]",
      "text/plain": [
       "<IPython.core.display.Image object>"
      ]
     },
     "metadata": {},
     "output_type": "display_data"
    }
   ],
   "source": [
    "state_graph = graph_builder.compile(checkpointer=sql_memory)\n",
    "display(Image(state_graph.get_graph().draw_mermaid_png()))"
   ]
  },
  {
   "cell_type": "code",
   "execution_count": 33,
   "id": "07f0a6ad-0524-40be-96ee-41cba45ba300",
   "metadata": {
    "execution": {
     "iopub.execute_input": "2025-07-20T15:12:59.775656Z",
     "iopub.status.busy": "2025-07-20T15:12:59.772255Z",
     "iopub.status.idle": "2025-07-20T15:13:00.251500Z",
     "shell.execute_reply": "2025-07-20T15:13:00.250478Z",
     "shell.execute_reply.started": "2025-07-20T15:12:59.775612Z"
    }
   },
   "outputs": [
    {
     "name": "stdout",
     "output_type": "stream",
     "text": [
      "* Running on local URL:  http://127.0.0.1:7864\n",
      "* To create a public link, set `share=True` in `launch()`.\n"
     ]
    },
    {
     "data": {
      "text/html": [
       "<div><iframe src=\"http://127.0.0.1:7864/\" width=\"100%\" height=\"500\" allow=\"autoplay; camera; microphone; clipboard-read; clipboard-write;\" frameborder=\"0\" allowfullscreen></iframe></div>"
      ],
      "text/plain": [
       "<IPython.core.display.HTML object>"
      ]
     },
     "metadata": {},
     "output_type": "display_data"
    },
    {
     "data": {
      "text/plain": []
     },
     "execution_count": 33,
     "metadata": {},
     "output_type": "execute_result"
    }
   ],
   "source": [
    "config = {\"configurable\": {\"thread_id\": \"3\"}}\n",
    "\n",
    "def chat(user_input: str, history):\n",
    "    result = state_graph.invoke({\"messages\": [{\"role\": \"user\", \"content\": user_input}]}, config=config)\n",
    "    return result[\"messages\"][-1].content\n",
    "\n",
    "\n",
    "gr.ChatInterface(chat, type=\"messages\").launch()"
   ]
  },
  {
   "cell_type": "code",
   "execution_count": null,
   "id": "92ec2ca7-26a3-4cad-9f52-88191e602b6e",
   "metadata": {},
   "outputs": [],
   "source": []
  }
 ],
 "metadata": {
  "kernelspec": {
   "display_name": "Python 3 (ipykernel)",
   "language": "python",
   "name": "python3"
  },
  "language_info": {
   "codemirror_mode": {
    "name": "ipython",
    "version": 3
   },
   "file_extension": ".py",
   "mimetype": "text/x-python",
   "name": "python",
   "nbconvert_exporter": "python",
   "pygments_lexer": "ipython3",
   "version": "3.12.3"
  }
 },
 "nbformat": 4,
 "nbformat_minor": 5
}
