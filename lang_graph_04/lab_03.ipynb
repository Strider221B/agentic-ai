{
 "cells": [
  {
   "cell_type": "markdown",
   "id": "ce2f3e49-249e-4fb9-8b58-42dd81be74a8",
   "metadata": {},
   "source": [
    "### Prereqs:\n",
    "1. pip install pytest-playwright\n",
    "2. playwright install\n",
    "3. playwright install-deps chromium\n",
    "4. pip install html5lib\n",
    "5. pip install lxml==5.2.1\n",
    "\n",
    "Jupyter notebook doesn't run. It nested async loops through Jupyter only works on certain OSs.\n",
    "\n",
    "Current System Details:  \n",
    "Ubuntu 24.04.2 LTS (GNU/Linux 5.15.167.4-microsoft-standard-WSL2 x86_64)\n",
    "System information as of Thu Jul 24 04:14:56 UTC 2025\n",
    "\n",
    "Python: 3.12.3\n",
    "\n",
    "Library:  \n",
    "nest-asyncio==1.6.0  \n",
    "gradio==5.28.0  \n",
    "gradio_client==1.10.0  "
   ]
  },
  {
   "cell_type": "code",
   "execution_count": 1,
   "id": "fd9d5095-2b57-4c7e-a7f4-8842667bab0e",
   "metadata": {
    "execution": {
     "iopub.execute_input": "2025-07-21T05:24:56.782217Z",
     "iopub.status.busy": "2025-07-21T05:24:56.781568Z",
     "iopub.status.idle": "2025-07-21T05:24:56.786940Z",
     "shell.execute_reply": "2025-07-21T05:24:56.785914Z",
     "shell.execute_reply.started": "2025-07-21T05:24:56.782196Z"
    }
   },
   "outputs": [],
   "source": [
    "import os\n",
    "os.chdir('./../')"
   ]
  },
  {
   "cell_type": "code",
   "execution_count": 2,
   "id": "3dac111e-2eaf-41a8-87c4-e01e58c0479a",
   "metadata": {
    "execution": {
     "iopub.execute_input": "2025-07-21T05:24:57.571291Z",
     "iopub.status.busy": "2025-07-21T05:24:57.570837Z",
     "iopub.status.idle": "2025-07-21T05:25:00.424141Z",
     "shell.execute_reply": "2025-07-21T05:25:00.423435Z",
     "shell.execute_reply.started": "2025-07-21T05:24:57.571261Z"
    }
   },
   "outputs": [
    {
     "name": "stderr",
     "output_type": "stream",
     "text": [
      "/home/somesh/PythonEnvs/P3.12_LLM/lib/python3.12/site-packages/tqdm/auto.py:21: TqdmWarning: IProgress not found. Please update jupyter and ipywidgets. See https://ipywidgets.readthedocs.io/en/stable/user_install.html\n",
      "  from .autonotebook import tqdm as notebook_tqdm\n"
     ]
    }
   ],
   "source": [
    "import dotenv\n",
    "import textwrap\n",
    "from typing import Annotated\n",
    "from typing_extensions import TypedDict\n",
    "\n",
    "import gradio as gr\n",
    "import nest_asyncio\n",
    "import requests\n",
    "from IPython.display import Image, display\n",
    "from langgraph import graph\n",
    "from langgraph import prebuilt\n",
    "from langchain.agents import Tool\n",
    "from langgraph.checkpoint.memory import MemorySaver\n",
    "from langchain_community.agent_toolkits import PlayWrightBrowserToolkit\n",
    "from langchain_community.tools.playwright.utils import create_async_playwright_browser\n",
    "from langchain_google_genai import ChatGoogleGenerativeAI\n",
    "\n",
    "dotenv.load_dotenv(override=True)\n",
    "\n",
    "from common.constants import Constants\n",
    "from common.tools.pushover import Pushover"
   ]
  },
  {
   "cell_type": "code",
   "execution_count": 3,
   "id": "efd59344-dddc-4e8a-830f-a15e045b4b4e",
   "metadata": {
    "execution": {
     "iopub.execute_input": "2025-07-21T05:25:00.425821Z",
     "iopub.status.busy": "2025-07-21T05:25:00.425142Z",
     "iopub.status.idle": "2025-07-21T05:25:00.430380Z",
     "shell.execute_reply": "2025-07-21T05:25:00.429479Z",
     "shell.execute_reply.started": "2025-07-21T05:25:00.425786Z"
    }
   },
   "outputs": [],
   "source": [
    "class State(TypedDict):    \n",
    "    messages: Annotated[list, graph.message.add_messages]"
   ]
  },
  {
   "cell_type": "code",
   "execution_count": 4,
   "id": "bccac8e9-4b72-4864-b3cb-2c4311af4460",
   "metadata": {
    "execution": {
     "iopub.execute_input": "2025-07-21T05:25:00.431760Z",
     "iopub.status.busy": "2025-07-21T05:25:00.431137Z",
     "iopub.status.idle": "2025-07-21T05:25:00.440834Z",
     "shell.execute_reply": "2025-07-21T05:25:00.440111Z",
     "shell.execute_reply.started": "2025-07-21T05:25:00.431737Z"
    }
   },
   "outputs": [],
   "source": [
    "graph_builder = graph.StateGraph(State)"
   ]
  },
  {
   "cell_type": "code",
   "execution_count": 5,
   "id": "30a294bb-7664-4b43-8ae1-a625ca35ae32",
   "metadata": {
    "execution": {
     "iopub.execute_input": "2025-07-21T05:25:01.338842Z",
     "iopub.status.busy": "2025-07-21T05:25:01.338553Z",
     "iopub.status.idle": "2025-07-21T05:25:01.344063Z",
     "shell.execute_reply": "2025-07-21T05:25:01.343023Z",
     "shell.execute_reply.started": "2025-07-21T05:25:01.338824Z"
    }
   },
   "outputs": [],
   "source": [
    "nest_asyncio.apply()"
   ]
  },
  {
   "cell_type": "code",
   "execution_count": 6,
   "id": "865b9d11-d2fc-4347-840e-cbe06d5f947c",
   "metadata": {
    "execution": {
     "iopub.execute_input": "2025-07-21T05:25:02.223367Z",
     "iopub.status.busy": "2025-07-21T05:25:02.223076Z",
     "iopub.status.idle": "2025-07-21T05:25:03.064398Z",
     "shell.execute_reply": "2025-07-21T05:25:03.063145Z",
     "shell.execute_reply.started": "2025-07-21T05:25:02.223350Z"
    }
   },
   "outputs": [
    {
     "data": {
      "text/plain": [
       "[ClickTool(async_browser=<Browser type=<BrowserType name=chromium executable_path=/home/somesh/.cache/ms-playwright/chromium-1179/chrome-linux/chrome> version=138.0.7204.23>),\n",
       " NavigateTool(async_browser=<Browser type=<BrowserType name=chromium executable_path=/home/somesh/.cache/ms-playwright/chromium-1179/chrome-linux/chrome> version=138.0.7204.23>),\n",
       " NavigateBackTool(async_browser=<Browser type=<BrowserType name=chromium executable_path=/home/somesh/.cache/ms-playwright/chromium-1179/chrome-linux/chrome> version=138.0.7204.23>),\n",
       " ExtractTextTool(async_browser=<Browser type=<BrowserType name=chromium executable_path=/home/somesh/.cache/ms-playwright/chromium-1179/chrome-linux/chrome> version=138.0.7204.23>),\n",
       " ExtractHyperlinksTool(async_browser=<Browser type=<BrowserType name=chromium executable_path=/home/somesh/.cache/ms-playwright/chromium-1179/chrome-linux/chrome> version=138.0.7204.23>),\n",
       " GetElementsTool(async_browser=<Browser type=<BrowserType name=chromium executable_path=/home/somesh/.cache/ms-playwright/chromium-1179/chrome-linux/chrome> version=138.0.7204.23>),\n",
       " CurrentWebPageTool(async_browser=<Browser type=<BrowserType name=chromium executable_path=/home/somesh/.cache/ms-playwright/chromium-1179/chrome-linux/chrome> version=138.0.7204.23>)]"
      ]
     },
     "execution_count": 6,
     "metadata": {},
     "output_type": "execute_result"
    }
   ],
   "source": [
    "async_browser =  create_async_playwright_browser(headless=False)\n",
    "toolkit = PlayWrightBrowserToolkit.from_browser(async_browser=async_browser)\n",
    "tools = toolkit.get_tools()\n",
    "tools"
   ]
  },
  {
   "cell_type": "code",
   "execution_count": 7,
   "id": "07fcce4f-bb53-4a12-aa4d-de443cb0bb1a",
   "metadata": {
    "execution": {
     "iopub.execute_input": "2025-07-21T05:25:03.992253Z",
     "iopub.status.busy": "2025-07-21T05:25:03.991497Z",
     "iopub.status.idle": "2025-07-21T05:25:03.996682Z",
     "shell.execute_reply": "2025-07-21T05:25:03.995796Z",
     "shell.execute_reply.started": "2025-07-21T05:25:03.992213Z"
    }
   },
   "outputs": [],
   "source": [
    "tool_dict = {tool.name:tool for tool in tools}\n",
    "navigate_tool = tool_dict.get(\"navigate_browser\")\n",
    "extract_text_tool = tool_dict.get(\"extract_text\")"
   ]
  },
  {
   "cell_type": "code",
   "execution_count": 9,
   "id": "8e80d5f8-a6b3-4caf-908f-07bd345e94b1",
   "metadata": {
    "execution": {
     "iopub.execute_input": "2025-07-21T05:25:34.287982Z",
     "iopub.status.busy": "2025-07-21T05:25:34.287179Z",
     "iopub.status.idle": "2025-07-21T05:25:40.915312Z",
     "shell.execute_reply": "2025-07-21T05:25:40.913595Z",
     "shell.execute_reply.started": "2025-07-21T05:25:34.287962Z"
    }
   },
   "outputs": [],
   "source": [
    "await navigate_tool.arun({\"url\": \"https://someshchatterjee.com\"})\n",
    "text = await extract_text_tool.arun({})"
   ]
  },
  {
   "cell_type": "code",
   "execution_count": 10,
   "id": "0d8599fa-2f3d-42aa-83b4-ff4ed49bb019",
   "metadata": {
    "execution": {
     "iopub.execute_input": "2025-07-21T05:26:31.861770Z",
     "iopub.status.busy": "2025-07-21T05:26:31.861370Z",
     "iopub.status.idle": "2025-07-21T05:26:31.872642Z",
     "shell.execute_reply": "2025-07-21T05:26:31.871545Z",
     "shell.execute_reply.started": "2025-07-21T05:26:31.861749Z"
    }
   },
   "outputs": [
    {
     "name": "stdout",
     "output_type": "stream",
     "text": [
      "Breaking News, Latest News and Videos | CNN CNN values your feedback\n",
      "1. How relevant is this ad to you? 2. Did you encounter any technical\n",
      "issues? No Video player was slow to load content Video content never\n",
      "loaded Ad froze or did not finish loading Video content did not start\n",
      "after ad Audio on ad was too loud Other issues Ad never loaded Ad\n",
      "prevented/slowed the page from loading Content moved around while ad\n",
      "loaded Ad was repetitive to ads I've seen previously Other issues\n",
      "Cancel Submit Thank You! Your effort and contribution in providing\n",
      "this feedback is much\n",
      "appreciated. Close Ad Feedback Close icon US World Politics Business\n",
      "Health Entertainment Style Travel Sports Science Climate Weather\n",
      "Ukraine-Russia War Israel-Hamas War Games More US World Politics\n",
      "Business Health Entertainment Style Travel Sports Science Climate\n",
      "Weather Ukraine-Russia War Israel-Hamas War Games Watch Listen Live TV\n",
      "Subscribe Sign in My Account Settings Newsletters Topics you follow\n",
      "Sign out Your CNN account Sign in to your CNN account Sign in My\n",
      "Account Settings Newsletters Topics you follow Sign out Your CNN\n",
      "account Sign in to your CNN account Live TV Listen Watch Edition US\n",
      "International Arabic Español Edition US International Arabic Español\n",
      "World Africa Americas Asia Australia China Europe India Middle East\n",
      "United Kingdom US Politics Trump Facts First CNN Polls 2025 Elections\n",
      "Business Tech Media Calculators Videos Markets Pre-markets After-Hours\n",
      "Fear & Greed Investing Markets Now Nightcap Health Life, But Better\n",
      "Fitness Food Sleep Mindfulness Relationships Entertainment Movies\n",
      "Television Celebrity Tech Innovate Foreseeable Future Mission: Ahead\n",
      "Work Transformed Innovative Cities Style Arts Design Fashion\n",
      "Architecture Luxury Beauty Video Travel Destinations Food & Drink Stay\n",
      "News Videos Sports Football Tennis Golf Motorsport US Sports Olympics\n",
      "Climbing Esports Hockey Science Space Life Unearthed Climate Solutions\n",
      "Weather Weather Video Climate Ukraine-Russia War Israel-Hamas War\n",
      "Features As Equals Call to Earth Freedom Project Impact Your World\n",
      "Inside Africa CNN Heroes Watch Live TV CNN Fast Shows A-Z CNN10 CNN\n",
      "Max CNN TV Schedules Listen CNN 5 Things Chasing Life with Dr. Sanjay\n",
      "Gupta The Assignment with Audie Cornish One Thing Tug of War CNN\n",
      "Political Briefing The Axe Files All There Is with Anderson Cooper All\n",
      "CNN Audio podcasts Games Daily Crossword Jumble Crossword Photo\n",
      "Shuffle Sudoblock Sudoku 5 Things Quiz About CNN Photos Investigations\n",
      "CNN Profiles CNN Leadership CNN Newsletters Work for CNN Follow CNN\n",
      "Kabul’s water crisis Global brain tech competition Ecuadorian drug\n",
      "kingpin Vietnam tourist boat capsizes David Beckham’s hilarious mishap\n",
      "‘Superman’ or ‘Superwoke’? CNN China is catching up to the US in brain\n",
      "tech, rivaling firms like Elon Musk’s Neuralink “I want to eat” popped\n",
      "up in Chinese characters on a computer at a public hospital in central\n",
      "Beijing. The words were formed from the thoughts of a 67-year-old\n",
      "woman with amyotrophic lateral sclerosis (ALS), also known as Lou\n",
      "Gehrig’s Disease, who is unable to speak. Wakil Kohsar/AFP/Getty\n",
      "Images For the first time in modern history, a capital city is on the\n",
      "verge of running dry Ronaldo Schemidt/AFP/Getty Images It’s the summer\n",
      "of flooding in the US. Scientists know why • Video 0:48 Reuters Video\n",
      "Deadly flooding grips South Korea for days 0:48 South Korea has been\n",
      "ravaged for days by intense flooding that’s left more than a dozen\n",
      "people dead. Reuters reported more than 16 inches of rain fell in one\n",
      "area in just 24 hours, citing the country’s Interior and Safety\n",
      "Ministry. Tyrone Siu/Reuters Typhoon rains batter Hong Kong before\n",
      "Wipha weakens to severe tropical storm Rains from Typhoon Wipha\n",
      "pounded Hong Kong on Sunday as the storm skirted southwards before\n",
      "making landfall on the coast of China’s Guangdong province, leaving\n",
      "fallen trees and scaffolding and sending over 200 people to seek\n",
      "refuge at temporary shelters. Trump faces another week trying to quell\n",
      "Epstein storm Show all • Analysis Analysis Alex Brandon/AP • Analysis\n",
      "Analysis Analysis The uproar showed no sign of passing, frustrating\n",
      "the US president’s efforts to highlight the success of his first six\n",
      "months in power Trump threatens to restrict NFL team’s stadium deal if\n",
      "Washington Commanders don’t change back to ‘Redskins’ President Donald\n",
      "Trump on Sunday escalated his call for the Washington Commanders to\n",
      "change their name back to the “Redskins,” threatening to restrict the\n",
      "NFL team’s stadium deal if they don’t, though it’s unclear how he\n",
      "would be able to. Marco Rubio’s role atop Trump’s national security\n",
      "apparatus has been cemented It was after midnight in Malaysia when\n",
      "Secretary of State Marco Rubio dialed into a call between President\n",
      "Donald Trump and NATO Secretary General Mark Rutte. The topic was\n",
      "Ukraine and Rubio, on his first trip to Asia as Trump’s top diplomat,\n",
      "had just met face-to-face with his Russian counterpart, Foreign\n",
      "Minister Sergei Lavrov. • Analysis Analysis Analysis Democrats are\n",
      "making 2028 moves. Here’s what to know Democrats who will run for\n",
      "president in 2028 are already quietly, and not so quietly, making\n",
      "moves. Play Catch up on today's global news - Source: CNN Video Catch\n",
      "up on today’s global news Ethan Miller/Getty Images Coldplay’s Chris\n",
      "Martin offered concertgoers a friendly warning before ‘Jumbotron Song’\n",
      "Warren Little/Getty Images Scottie Scheffler leaves rivals awestruck\n",
      "after dominant Open win • Video 2:05 CNN Video China cracks down on\n",
      "fake ‘Lafufu’ Labubus 2:05 Ad Feedback More top stories Łukasz\n",
      "Jeziorski/Why Donate UC Berkeley professor killed in Athens: Suspect\n",
      "claims he ‘did it all for’ victim’s ex-wife, leaked police confession\n",
      "reveals Man dies after being pulled into an MRI by a metal chain he\n",
      "wore, police say Ecuador’s most notorious drug kingpin has been\n",
      "extradited to the US 4-year-old girl dies of hunger in Gaza as Israel\n",
      "throttles food supply Video ‘Heavily pregnant females’ and\n",
      "‘unsanitary’ conditions: Hundreds of guinea pigs found in LA home 1:17\n",
      "LeoPatrizi/E+/Getty Images The scientific reason why you are not\n",
      "joyful — and what to do about it CNN Brewing trouble: America’s coffee\n",
      "addiction meets Trump’s trade tariffs Massachusetts Lottery This man\n",
      "became a millionaire twice in one night – thanks to a lucky lottery\n",
      "mistake Ad Feedback Elva Etienne/Moment RF/Getty Images Analysis\n",
      "Smartphones aren’t safe for kids under 13. Here’s why Jul 21, 2025\n",
      "QDND/AP Boy survives deadly tourist boat sinking by sheltering in air\n",
      "pocket Jul 20, 2025 Courtesy of Warner Bros. Pictures ‘Superman’\n",
      "continues to soar at box office Jul 21, 2025 TikTok/@sed50252, CNN,\n",
      "TikTok/@anchxspider Video Meet the actor behind the viral ‘nothing\n",
      "beats a Jet2 holiday’ TikTok sound 1:50 Jul 21, 2025 Ad Feedback\n",
      "Abdulaziz Ketaz/AFP/Getty Images/File Ceasefire in southern Syria\n",
      "appears to be holding as US demands Damascus end violence Antonio\n",
      "Masiello/Getty Images Ukraine calls for talks with Russia next week\n",
      "Kiyoshi Ota/Pool/Reuters Japan’s minority government likely to lose\n",
      "upper house control, exit polls show • Video 12:15 CNN/Lindsey McLeod\n",
      "McCrory Video Mom lost husband and brother this year – then her\n",
      "daughter in Texas floods 12:15 • Video 2:18 CNN Video The quiet\n",
      "comeback of Zimbabwe’s most mysterious mammal 2:18 Warner Bros. The\n",
      "director of ‘Superman’ calls his hero an immigrant. Critics call him\n",
      "‘Superwoke’ Eddie Keogh/Getty Images After surviving cancer twice,\n",
      "this goalkeeper just became a German soccer hero Rich Storry/Getty\n",
      "Images David Beckham documents his hilarious haircut mishap Theo\n",
      "Wargo/Getty Images Katy Perry nearly plummets from floating butterfly\n",
      "as prop malfunctions • Video 1:56 Elyse Jankowski/Sipa/AP Video Billie\n",
      "Eilish on being eco-conscious in the music industry 1:56 Adrian\n",
      "Dennis/AFP/Getty Images Usyk KOs Dubois to become undisputed world\n",
      "heavyweight champion Ad Feedback Featured Sections Space and Science\n",
      "Courtesy of the Master and Fellows of Peterhouse/University of\n",
      "Cambridge Medieval scribe’s slip-up triggered centuries of confusion\n",
      "over a long-lost saga. Researchers finally decoded the error Rare\n",
      "Ceratosaurus fossil sells for $30.5 million Dinosaur fossil found\n",
      "underneath a Denver museum’s parking lot Video See how architects in\n",
      "Iceland want to build with molten lava 2:59 Global Travel\n",
      "ingwervanille/Moment RF/Getty Images Summer fare from around the world\n",
      "to cool down in hot weather The country with incredible natural\n",
      "wonders that few tourists have seen No, Walt Disney is not\n",
      "cryogenically frozen. But he comes magically back to life at\n",
      "Disneyland Video This 6-pound backpack changed one man’s approach to\n",
      "life 2:56 Ad Feedback Global Business Justin Sullivan/Getty Images\n",
      "Prices are changing. See how much the cost of basic grocery items has\n",
      "shifted China puts new restrictions on EV battery technology in latest\n",
      "move to consolidate dominance Climate catastrophes are creating a ‘new\n",
      "market reality’ for insurance carriers Chinese graphite is crucial to\n",
      "electric car batteries. Trump put a 93.5% tariff on it Art and Style •\n",
      "Video 1:56 CNN Video Could ‘fashioneering’ be a future trend? 1:56 Can\n",
      "you mount an art exhibition about race in the age of Trump? The tragic\n",
      "journey of a homeless Cuban artist and curator once dubbed ‘squirrel\n",
      "man’ This landmark is getting an $8 billion overhaul. The brief? Don’t\n",
      "mess with an ‘icon’ Sports Sarah Meyssonnier/Reuters Tour de France\n",
      "spectator hit by INEOS-Grenadiers team car Lloyd Howell Jr. steps down\n",
      "from NFLPA role amid reports he expensed trips to strip clubs ‘As a\n",
      "result of that naivety, I almost died’: A golfer’s tumultuous journey\n",
      "to The Open Marathon world record-holder provisionally suspended over\n",
      "banned substance Ad Feedback US Politics EB4 Photography She quit her\n",
      "federal job because of Trump. Now, she’s running for office to fight\n",
      "his policies The FBI prepares to leave its ‘monstrosity’ of a home –\n",
      "but may end up back where it started Education Department funding\n",
      "freeze targets summer school and language programs that are lifelines\n",
      "for families Trump says Powell is costing the US a fortune. But firing\n",
      "the Fed chair may not fix the issue Health and Wellness\n",
      "PeopleImages/iStockphoto/Getty Images Gender isn’t the problem with\n",
      "youth sports. Exclusion is An Arizona resident has just died of the\n",
      "plague. What to know about this disease Trump administration ends 988\n",
      "Suicide & Crisis Lifeline’s specialized service for LGBTQ+ youth\n",
      "Influencer shower routines are overkill. Here’s the one thing you need\n",
      "to shower, according to experts Tech Mateusz Slodkowski/SOPA\n",
      "Images/LightRocket/Getty Images ChatGPT can now ‘think’ and ‘act’ for\n",
      "you after a new update Video Humanoids leading China’s AI, tech\n",
      "revolution 5:11 With global sales slumping, Tesla tries to break into\n",
      "a new market Meta investors, Zuckerberg reach settlement to end $8\n",
      "billion trial over Facebook privacy litigation More from CNN Call to\n",
      "Earth Show all Matt Baker This river is running free for the first\n",
      "time in a century • Gallery Gallery Hansruedi Weyrich/Vulture\n",
      "Conservation Foundation Gallery Bearded vultures make a return Tom\n",
      "Booth/CNN ‘Super corals’ and supplements: Inside the lab trying to\n",
      "save the Great Barrier Reef Ad Feedback In Case You Missed It Jung\n",
      "Yeon-je/AFP/Getty Images Can two North Korean defectors take a new\n",
      "K-pop boy band to global superstardom? How a Hurricane Katrina victim\n",
      "is helping the smallest survivors of the Texas floods The owner of the\n",
      "Tennessee plastics factory where workers were swept away by Hurricane\n",
      "Helene won’t face charges Ecuador’s capital rocked by water shortage\n",
      "crisis upending daily life How a runaway British aristocrat and\n",
      "convicted rapist were found guilty over their baby’s death How\n",
      "business lobbyists scored wins in Trump’s ‘big, beautiful bill’ Dress\n",
      "codes: Why do brides wear veils? Justice Department says former\n",
      "officer convicted in Breonna Taylor raid should get one day in jail\n",
      "Subscribe Sign in My Account Settings Newsletters Topics you follow\n",
      "Sign out Your CNN account Sign in to your CNN account Live TV Listen\n",
      "Watch World Africa Americas Asia Australia China Europe India Middle\n",
      "East United Kingdom US Politics Trump Facts First CNN Polls 2025\n",
      "Elections Business Tech Media Calculators Videos Markets Pre-markets\n",
      "After-Hours Fear & Greed Investing Markets Now Nightcap Health Life,\n",
      "But Better Fitness Food Sleep Mindfulness Relationships Entertainment\n",
      "Movies Television Celebrity Tech Innovate Foreseeable Future Mission:\n",
      "Ahead Work Transformed Innovative Cities Style Arts Design Fashion\n",
      "Architecture Luxury Beauty Video Travel Destinations Food & Drink Stay\n",
      "News Videos Sports Football Tennis Golf Motorsport US Sports Olympics\n",
      "Climbing Esports Hockey Science Space Life Unearthed Climate Solutions\n",
      "Weather Weather Video Climate Ukraine-Russia War Israel-Hamas War\n",
      "Features As Equals Call to Earth Freedom Project Impact Your World\n",
      "Inside Africa CNN Heroes Watch Live TV CNN Fast Shows A-Z CNN10 CNN\n",
      "Max CNN TV Schedules Listen CNN 5 Things Chasing Life with Dr. Sanjay\n",
      "Gupta The Assignment with Audie Cornish One Thing Tug of War CNN\n",
      "Political Briefing The Axe Files All There Is with Anderson Cooper All\n",
      "CNN Audio podcasts Games Daily Crossword Jumble Crossword Photo\n",
      "Shuffle Sudoblock Sudoku 5 Things Quiz About CNN Photos Investigations\n",
      "CNN Profiles CNN Leadership CNN Newsletters Work for CNN Watch Listen\n",
      "Live TV Follow CNN Subscribe Sign in My Account Settings Newsletters\n",
      "Topics you follow Sign out Your CNN account Sign in to your CNN\n",
      "account Terms of Use Privacy Policy Cookie Settings Ad Choices\n",
      "Accessibility & CC About Newsletters Transcripts © 2025 Cable News\n",
      "Network. A Warner Bros. Discovery Company. All Rights Reserved. CNN\n",
      "Sans ™ & © 2016 Cable News Network. Privacy Policy For privacy\n",
      "options, please see our privacy policy: https://www.cnn.com/privacy .\n",
      "Back Button Cookie List Search Icon Filter Icon Clear checkbox label\n",
      "label Apply Cancel Consent Leg.Interest checkbox label label checkbox\n",
      "label label checkbox label label Close\n"
     ]
    }
   ],
   "source": [
    "print(textwrap.fill(text))"
   ]
  },
  {
   "cell_type": "code",
   "execution_count": 11,
   "id": "fd373fda-81d7-4c69-bd8d-15acd19cb740",
   "metadata": {
    "execution": {
     "iopub.execute_input": "2025-07-21T05:26:35.481382Z",
     "iopub.status.busy": "2025-07-21T05:26:35.480284Z",
     "iopub.status.idle": "2025-07-21T05:26:35.485873Z",
     "shell.execute_reply": "2025-07-21T05:26:35.484707Z",
     "shell.execute_reply.started": "2025-07-21T05:26:35.481360Z"
    }
   },
   "outputs": [],
   "source": [
    "tool_push = Tool(name=\"send_push_notification\", func=Pushover.push, description=\"useful for when you want to send a push notification\")"
   ]
  },
  {
   "cell_type": "code",
   "execution_count": 12,
   "id": "d88d70bd-464e-475a-bcdc-9e9d2d0d2995",
   "metadata": {
    "execution": {
     "iopub.execute_input": "2025-07-21T05:26:36.595968Z",
     "iopub.status.busy": "2025-07-21T05:26:36.595713Z",
     "iopub.status.idle": "2025-07-21T05:26:36.600233Z",
     "shell.execute_reply": "2025-07-21T05:26:36.599239Z",
     "shell.execute_reply.started": "2025-07-21T05:26:36.595953Z"
    }
   },
   "outputs": [],
   "source": [
    "all_tools = tools + [tool_push]"
   ]
  },
  {
   "cell_type": "code",
   "execution_count": 13,
   "id": "f6dd7a11-8f3f-40b3-ab5c-a4e3f3a6ac04",
   "metadata": {
    "execution": {
     "iopub.execute_input": "2025-07-21T05:26:38.512364Z",
     "iopub.status.busy": "2025-07-21T05:26:38.512078Z",
     "iopub.status.idle": "2025-07-21T05:26:38.562364Z",
     "shell.execute_reply": "2025-07-21T05:26:38.561427Z",
     "shell.execute_reply.started": "2025-07-21T05:26:38.512346Z"
    }
   },
   "outputs": [],
   "source": [
    "llm = ChatGoogleGenerativeAI(model=Constants.GEMINI_MODEL_LITE)\n",
    "llm_with_tools = llm.bind_tools(all_tools)\n",
    "\n",
    "def chatbot(state: State):\n",
    "    return {\"messages\": [llm_with_tools.invoke(state[\"messages\"])]}"
   ]
  },
  {
   "cell_type": "code",
   "execution_count": 14,
   "id": "5dfe2bcd-05ac-4160-8f8b-f13ca1a7069e",
   "metadata": {
    "execution": {
     "iopub.execute_input": "2025-07-21T05:26:40.461630Z",
     "iopub.status.busy": "2025-07-21T05:26:40.460988Z",
     "iopub.status.idle": "2025-07-21T05:26:40.478276Z",
     "shell.execute_reply": "2025-07-21T05:26:40.477393Z",
     "shell.execute_reply.started": "2025-07-21T05:26:40.461613Z"
    }
   },
   "outputs": [
    {
     "data": {
      "text/plain": [
       "<langgraph.graph.state.StateGraph at 0x7f1f702894c0>"
      ]
     },
     "execution_count": 14,
     "metadata": {},
     "output_type": "execute_result"
    }
   ],
   "source": [
    "graph_builder = graph.StateGraph(State)\n",
    "graph_builder.add_node(\"chatbot\", chatbot)\n",
    "graph_builder.add_node(\"tools\", prebuilt.ToolNode(tools=all_tools))\n",
    "graph_builder.add_conditional_edges(\"chatbot\", prebuilt.tools_condition, \"tools\")\n",
    "graph_builder.add_edge(\"tools\", \"chatbot\")\n",
    "graph_builder.add_edge(graph.START, \"chatbot\")"
   ]
  },
  {
   "cell_type": "code",
   "execution_count": 15,
   "id": "0703cd50-bb4f-4c77-aa9e-13a943ff1e1e",
   "metadata": {
    "execution": {
     "iopub.execute_input": "2025-07-21T05:26:42.032552Z",
     "iopub.status.busy": "2025-07-21T05:26:42.032267Z",
     "iopub.status.idle": "2025-07-21T05:26:42.630099Z",
     "shell.execute_reply": "2025-07-21T05:26:42.629316Z",
     "shell.execute_reply.started": "2025-07-21T05:26:42.032535Z"
    }
   },
   "outputs": [
    {
     "data": {
      "image/png": "[encoded data removed]",
      "text/plain": [
       "<IPython.core.display.Image object>"
      ]
     },
     "metadata": {},
     "output_type": "display_data"
    }
   ],
   "source": [
    "memory = MemorySaver()\n",
    "state_graph = graph_builder.compile(checkpointer=memory)\n",
    "display(Image(state_graph.get_graph().draw_mermaid_png()))"
   ]
  },
  {
   "cell_type": "code",
   "execution_count": 16,
   "id": "5dc8837e-46af-4ab1-9642-eaefa85ae5c3",
   "metadata": {
    "execution": {
     "iopub.execute_input": "2025-07-21T05:26:44.281266Z",
     "iopub.status.busy": "2025-07-21T05:26:44.280987Z",
     "iopub.status.idle": "2025-07-21T05:27:02.422500Z",
     "shell.execute_reply": "2025-07-21T05:27:02.421108Z",
     "shell.execute_reply.started": "2025-07-21T05:26:44.281249Z"
    }
   },
   "outputs": [
    {
     "name": "stderr",
     "output_type": "stream",
     "text": [
      "Exception in thread Thread-9 (run):\n",
      "Traceback (most recent call last):\n",
      "  File \"/usr/lib/python3.12/threading.py\", line 1073, in _bootstrap_inner\n",
      "    self.run()\n",
      "  File \"/home/somesh/PythonEnvs/P3.12_LLM/lib/python3.12/site-packages/ipykernel/ipkernel.py\", line 766, in run_closure\n",
      "    _threading_Thread_run(self)\n",
      "  File \"/usr/lib/python3.12/threading.py\", line 1010, in run\n",
      "    self._target(*self._args, **self._kwargs)\n",
      "  File \"/home/somesh/PythonEnvs/P3.12_LLM/lib/python3.12/site-packages/uvicorn/server.py\", line 66, in run\n",
      "    return asyncio.run(self.serve(sockets=sockets))\n",
      "           ^^^^^^^^^^^^^^^^^^^^^^^^^^^^^^^^^^^^^^^^\n",
      "  File \"/home/somesh/PythonEnvs/P3.12_LLM/lib/python3.12/site-packages/nest_asyncio.py\", line 26, in run\n",
      "    loop = asyncio.get_event_loop()\n",
      "           ^^^^^^^^^^^^^^^^^^^^^^^^\n",
      "  File \"/home/somesh/PythonEnvs/P3.12_LLM/lib/python3.12/site-packages/nest_asyncio.py\", line 40, in _get_event_loop\n",
      "    loop = events.get_event_loop_policy().get_event_loop()\n",
      "           ^^^^^^^^^^^^^^^^^^^^^^^^^^^^^^^^^^^^^^^^^^^^^^^\n",
      "  File \"/usr/lib/python3.12/asyncio/events.py\", line 702, in get_event_loop\n",
      "    raise RuntimeError('There is no current event loop in thread %r.'\n",
      "RuntimeError: There is no current event loop in thread 'Thread-9 (run)'.\n",
      "/usr/lib/python3.12/threading.py:1075: RuntimeWarning: coroutine 'Server.serve' was never awaited\n",
      "  self._invoke_excepthook(self)\n",
      "RuntimeWarning: Enable tracemalloc to get the object allocation traceback\n",
      "Exception in thread Thread-10 (run):\n",
      "Traceback (most recent call last):\n",
      "  File \"/usr/lib/python3.12/threading.py\", line 1073, in _bootstrap_inner\n",
      "    self.run()\n",
      "  File \"/home/somesh/PythonEnvs/P3.12_LLM/lib/python3.12/site-packages/ipykernel/ipkernel.py\", line 766, in run_closure\n",
      "    _threading_Thread_run(self)\n",
      "  File \"/usr/lib/python3.12/threading.py\", line 1010, in run\n",
      "    self._target(*self._args, **self._kwargs)\n",
      "  File \"/home/somesh/PythonEnvs/P3.12_LLM/lib/python3.12/site-packages/uvicorn/server.py\", line 66, in run\n",
      "    return asyncio.run(self.serve(sockets=sockets))\n",
      "           ^^^^^^^^^^^^^^^^^^^^^^^^^^^^^^^^^^^^^^^^\n",
      "  File \"/home/somesh/PythonEnvs/P3.12_LLM/lib/python3.12/site-packages/nest_asyncio.py\", line 26, in run\n",
      "    loop = asyncio.get_event_loop()\n",
      "           ^^^^^^^^^^^^^^^^^^^^^^^^\n",
      "  File \"/home/somesh/PythonEnvs/P3.12_LLM/lib/python3.12/site-packages/nest_asyncio.py\", line 40, in _get_event_loop\n",
      "    loop = events.get_event_loop_policy().get_event_loop()\n",
      "           ^^^^^^^^^^^^^^^^^^^^^^^^^^^^^^^^^^^^^^^^^^^^^^^\n",
      "  File \"/usr/lib/python3.12/asyncio/events.py\", line 702, in get_event_loop\n",
      "    raise RuntimeError('There is no current event loop in thread %r.'\n",
      "RuntimeError: There is no current event loop in thread 'Thread-10 (run)'.\n",
      "Exception in thread Thread-11 (run):\n",
      "Traceback (most recent call last):\n",
      "  File \"/usr/lib/python3.12/threading.py\", line 1073, in _bootstrap_inner\n",
      "    self.run()\n",
      "  File \"/home/somesh/PythonEnvs/P3.12_LLM/lib/python3.12/site-packages/ipykernel/ipkernel.py\", line 766, in run_closure\n",
      "    _threading_Thread_run(self)\n",
      "  File \"/usr/lib/python3.12/threading.py\", line 1010, in run\n",
      "    self._target(*self._args, **self._kwargs)\n",
      "  File \"/home/somesh/PythonEnvs/P3.12_LLM/lib/python3.12/site-packages/uvicorn/server.py\", line 66, in run\n",
      "    return asyncio.run(self.serve(sockets=sockets))\n",
      "           ^^^^^^^^^^^^^^^^^^^^^^^^^^^^^^^^^^^^^^^^\n",
      "  File \"/home/somesh/PythonEnvs/P3.12_LLM/lib/python3.12/site-packages/nest_asyncio.py\", line 26, in run\n",
      "    loop = asyncio.get_event_loop()\n",
      "           ^^^^^^^^^^^^^^^^^^^^^^^^\n",
      "  File \"/home/somesh/PythonEnvs/P3.12_LLM/lib/python3.12/site-packages/nest_asyncio.py\", line 40, in _get_event_loop\n",
      "    loop = events.get_event_loop_policy().get_event_loop()\n",
      "           ^^^^^^^^^^^^^^^^^^^^^^^^^^^^^^^^^^^^^^^^^^^^^^^\n",
      "  File \"/usr/lib/python3.12/asyncio/events.py\", line 702, in get_event_loop\n",
      "    raise RuntimeError('There is no current event loop in thread %r.'\n",
      "RuntimeError: There is no current event loop in thread 'Thread-11 (run)'.\n",
      "Exception in thread Thread-12 (run):\n",
      "Traceback (most recent call last):\n",
      "  File \"/usr/lib/python3.12/threading.py\", line 1073, in _bootstrap_inner\n",
      "    self.run()\n",
      "  File \"/home/somesh/PythonEnvs/P3.12_LLM/lib/python3.12/site-packages/ipykernel/ipkernel.py\", line 766, in run_closure\n",
      "    _threading_Thread_run(self)\n",
      "  File \"/usr/lib/python3.12/threading.py\", line 1010, in run\n",
      "    self._target(*self._args, **self._kwargs)\n",
      "  File \"/home/somesh/PythonEnvs/P3.12_LLM/lib/python3.12/site-packages/uvicorn/server.py\", line 66, in run\n",
      "    return asyncio.run(self.serve(sockets=sockets))\n",
      "           ^^^^^^^^^^^^^^^^^^^^^^^^^^^^^^^^^^^^^^^^\n",
      "  File \"/home/somesh/PythonEnvs/P3.12_LLM/lib/python3.12/site-packages/nest_asyncio.py\", line 26, in run\n",
      "    loop = asyncio.get_event_loop()\n",
      "           ^^^^^^^^^^^^^^^^^^^^^^^^\n",
      "  File \"/home/somesh/PythonEnvs/P3.12_LLM/lib/python3.12/site-packages/nest_asyncio.py\", line 40, in _get_event_loop\n",
      "    loop = events.get_event_loop_policy().get_event_loop()\n",
      "           ^^^^^^^^^^^^^^^^^^^^^^^^^^^^^^^^^^^^^^^^^^^^^^^\n",
      "  File \"/usr/lib/python3.12/asyncio/events.py\", line 702, in get_event_loop\n",
      "    raise RuntimeError('There is no current event loop in thread %r.'\n",
      "RuntimeError: There is no current event loop in thread 'Thread-12 (run)'.\n"
     ]
    },
    {
     "ename": "KeyboardInterrupt",
     "evalue": "",
     "output_type": "error",
     "traceback": [
      "\u001b[31m---------------------------------------------------------------------------\u001b[39m",
      "\u001b[31mKeyboardInterrupt\u001b[39m                         Traceback (most recent call last)",
      "\u001b[36mCell\u001b[39m\u001b[36m \u001b[39m\u001b[32mIn[16]\u001b[39m\u001b[32m, line 8\u001b[39m\n\u001b[32m      4\u001b[39m     result = \u001b[38;5;28;01mawait\u001b[39;00m state_graph.ainvoke({\u001b[33m\"\u001b[39m\u001b[33mmessages\u001b[39m\u001b[33m\"\u001b[39m: [{\u001b[33m\"\u001b[39m\u001b[33mrole\u001b[39m\u001b[33m\"\u001b[39m: \u001b[33m\"\u001b[39m\u001b[33muser\u001b[39m\u001b[33m\"\u001b[39m, \u001b[33m\"\u001b[39m\u001b[33mcontent\u001b[39m\u001b[33m\"\u001b[39m: user_input}]}, config=config)\n\u001b[32m      5\u001b[39m     \u001b[38;5;28;01mreturn\u001b[39;00m result[\u001b[33m\"\u001b[39m\u001b[33mmessages\u001b[39m\u001b[33m\"\u001b[39m][-\u001b[32m1\u001b[39m].content\n\u001b[32m----> \u001b[39m\u001b[32m8\u001b[39m \u001b[43mgr\u001b[49m\u001b[43m.\u001b[49m\u001b[43mChatInterface\u001b[49m\u001b[43m(\u001b[49m\u001b[43mchat\u001b[49m\u001b[43m,\u001b[49m\u001b[43m \u001b[49m\u001b[38;5;28;43mtype\u001b[39;49m\u001b[43m=\u001b[49m\u001b[33;43m\"\u001b[39;49m\u001b[33;43mmessages\u001b[39;49m\u001b[33;43m\"\u001b[39;49m\u001b[43m)\u001b[49m\u001b[43m.\u001b[49m\u001b[43mlaunch\u001b[49m\u001b[43m(\u001b[49m\u001b[43m)\u001b[49m\n",
      "\u001b[36mFile \u001b[39m\u001b[32m~/PythonEnvs/P3.12_LLM/lib/python3.12/site-packages/gradio/blocks.py:2669\u001b[39m, in \u001b[36mBlocks.launch\u001b[39m\u001b[34m(self, inline, inbrowser, share, debug, max_threads, auth, auth_message, prevent_thread_lock, show_error, server_name, server_port, height, width, favicon_path, ssl_keyfile, ssl_certfile, ssl_keyfile_password, ssl_verify, quiet, show_api, allowed_paths, blocked_paths, root_path, app_kwargs, state_session_capacity, share_server_address, share_server_protocol, share_server_tls_certificate, auth_dependency, max_file_size, enable_monitoring, strict_cors, node_server_name, node_port, ssr_mode, pwa, mcp_server, _frontend)\u001b[39m\n\u001b[32m   2661\u001b[39m \u001b[38;5;28;01melse\u001b[39;00m:\n\u001b[32m   2662\u001b[39m     \u001b[38;5;28;01mfrom\u001b[39;00m\u001b[38;5;250m \u001b[39m\u001b[34;01mgradio\u001b[39;00m\u001b[38;5;250m \u001b[39m\u001b[38;5;28;01mimport\u001b[39;00m http_server\n\u001b[32m   2664\u001b[39m     (\n\u001b[32m   2665\u001b[39m         server_name,\n\u001b[32m   2666\u001b[39m         server_port,\n\u001b[32m   2667\u001b[39m         local_url,\n\u001b[32m   2668\u001b[39m         server,\n\u001b[32m-> \u001b[39m\u001b[32m2669\u001b[39m     ) = \u001b[43mhttp_server\u001b[49m\u001b[43m.\u001b[49m\u001b[43mstart_server\u001b[49m\u001b[43m(\u001b[49m\n\u001b[32m   2670\u001b[39m \u001b[43m        \u001b[49m\u001b[43mapp\u001b[49m\u001b[43m=\u001b[49m\u001b[38;5;28;43mself\u001b[39;49m\u001b[43m.\u001b[49m\u001b[43mapp\u001b[49m\u001b[43m,\u001b[49m\n\u001b[32m   2671\u001b[39m \u001b[43m        \u001b[49m\u001b[43mserver_name\u001b[49m\u001b[43m=\u001b[49m\u001b[43mserver_name\u001b[49m\u001b[43m,\u001b[49m\n\u001b[32m   2672\u001b[39m \u001b[43m        \u001b[49m\u001b[43mserver_port\u001b[49m\u001b[43m=\u001b[49m\u001b[43mserver_port\u001b[49m\u001b[43m,\u001b[49m\n\u001b[32m   2673\u001b[39m \u001b[43m        \u001b[49m\u001b[43mssl_keyfile\u001b[49m\u001b[43m=\u001b[49m\u001b[43mssl_keyfile\u001b[49m\u001b[43m,\u001b[49m\n\u001b[32m   2674\u001b[39m \u001b[43m        \u001b[49m\u001b[43mssl_certfile\u001b[49m\u001b[43m=\u001b[49m\u001b[43mssl_certfile\u001b[49m\u001b[43m,\u001b[49m\n\u001b[32m   2675\u001b[39m \u001b[43m        \u001b[49m\u001b[43mssl_keyfile_password\u001b[49m\u001b[43m=\u001b[49m\u001b[43mssl_keyfile_password\u001b[49m\u001b[43m,\u001b[49m\n\u001b[32m   2676\u001b[39m \u001b[43m    \u001b[49m\u001b[43m)\u001b[49m\n\u001b[32m   2677\u001b[39m \u001b[38;5;28mself\u001b[39m.server_name = server_name\n\u001b[32m   2678\u001b[39m \u001b[38;5;28mself\u001b[39m.local_url = local_url\n",
      "\u001b[36mFile \u001b[39m\u001b[32m~/PythonEnvs/P3.12_LLM/lib/python3.12/site-packages/gradio/http_server.py:151\u001b[39m, in \u001b[36mstart_server\u001b[39m\u001b[34m(app, server_name, server_port, ssl_keyfile, ssl_certfile, ssl_keyfile_password)\u001b[39m\n\u001b[32m    141\u001b[39m         reloader = SourceFileReloader(\n\u001b[32m    142\u001b[39m             app=app,\n\u001b[32m    143\u001b[39m             watch_dirs=GRADIO_WATCH_DIRS,\n\u001b[32m   (...)\u001b[39m\u001b[32m    148\u001b[39m             watch_module=sys.modules[\u001b[33m\"\u001b[39m\u001b[33m__main__\u001b[39m\u001b[33m\"\u001b[39m],\n\u001b[32m    149\u001b[39m         )\n\u001b[32m    150\u001b[39m     server = Server(config=config, reloader=reloader)\n\u001b[32m--> \u001b[39m\u001b[32m151\u001b[39m     \u001b[43mserver\u001b[49m\u001b[43m.\u001b[49m\u001b[43mrun_in_thread\u001b[49m\u001b[43m(\u001b[49m\u001b[43m)\u001b[49m\n\u001b[32m    152\u001b[39m     \u001b[38;5;28;01mbreak\u001b[39;00m\n\u001b[32m    153\u001b[39m \u001b[38;5;28;01mexcept\u001b[39;00m (\u001b[38;5;167;01mOSError\u001b[39;00m, ServerFailedToStartError):\n",
      "\u001b[36mFile \u001b[39m\u001b[32m~/PythonEnvs/P3.12_LLM/lib/python3.12/site-packages/gradio/http_server.py:58\u001b[39m, in \u001b[36mServer.run_in_thread\u001b[39m\u001b[34m(self)\u001b[39m\n\u001b[32m     56\u001b[39m start = time.time()\n\u001b[32m     57\u001b[39m \u001b[38;5;28;01mwhile\u001b[39;00m \u001b[38;5;129;01mnot\u001b[39;00m \u001b[38;5;28mself\u001b[39m.started:\n\u001b[32m---> \u001b[39m\u001b[32m58\u001b[39m     \u001b[43mtime\u001b[49m\u001b[43m.\u001b[49m\u001b[43msleep\u001b[49m\u001b[43m(\u001b[49m\u001b[32;43m1e-3\u001b[39;49m\u001b[43m)\u001b[49m\n\u001b[32m     59\u001b[39m     \u001b[38;5;28;01mif\u001b[39;00m time.time() - start > \u001b[32m5\u001b[39m:\n\u001b[32m     60\u001b[39m         \u001b[38;5;28;01mraise\u001b[39;00m ServerFailedToStartError(\n\u001b[32m     61\u001b[39m             \u001b[33m\"\u001b[39m\u001b[33mServer failed to start. Please check that the port is available.\u001b[39m\u001b[33m\"\u001b[39m\n\u001b[32m     62\u001b[39m         )\n",
      "\u001b[31mKeyboardInterrupt\u001b[39m: "
     ]
    }
   ],
   "source": [
    "config = {\"configurable\": {\"thread_id\": \"10\"}}\n",
    "\n",
    "async def chat(user_input: str, history):\n",
    "    result = await state_graph.ainvoke({\"messages\": [{\"role\": \"user\", \"content\": user_input}]}, config=config)\n",
    "    return result[\"messages\"][-1].content\n",
    "\n",
    "\n",
    "gr.ChatInterface(chat, type=\"messages\").launch()"
   ]
  },
  {
   "cell_type": "code",
   "execution_count": null,
   "id": "50a1aa17-d407-496d-88a2-650542cadd45",
   "metadata": {},
   "outputs": [],
   "source": []
  }
 ],
 "metadata": {
  "kernelspec": {
   "display_name": "Python 3 (ipykernel)",
   "language": "python",
   "name": "python3"
  },
  "language_info": {
   "codemirror_mode": {
    "name": "ipython",
    "version": 3
   },
   "file_extension": ".py",
   "mimetype": "text/x-python",
   "name": "python",
   "nbconvert_exporter": "python",
   "pygments_lexer": "ipython3",
   "version": "3.12.3"
  }
 },
 "nbformat": 4,
 "nbformat_minor": 5
}
