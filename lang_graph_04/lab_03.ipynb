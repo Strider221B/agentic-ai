{
 "cells": [
  {
   "cell_type": "markdown",
   "id": "ce2f3e49-249e-4fb9-8b58-42dd81be74a8",
   "metadata": {},
   "source": [
    "### Prereqs:\n",
    "1. uv pip install playwright # pip install pytest-playwright\n",
    "2. playwright install\n",
    "3. playwright install-deps chromium\n",
    "4. pip install html5lib\n",
    "5. pip install lxml==5.2.1\n",
    "\n",
    "Jupyter notebook doesn't run. It nested async loops through Jupyter only works on certain OSs.\n",
    "\n",
    "Current System Details:  \n",
    "Ubuntu 24.04.2 LTS (GNU/Linux 5.15.167.4-microsoft-standard-WSL2 x86_64)\n",
    "System information as of Thu Jul 24 04:14:56 UTC 2025\n",
    "\n",
    "Python: 3.12.3\n",
    "\n",
    "Library:  \n",
    "nest-asyncio==1.6.0  \n",
    "gradio==5.28.0  \n",
    "gradio_client==1.10.0  "
   ]
  },
  {
   "cell_type": "code",
   "execution_count": 1,
   "id": "fd9d5095-2b57-4c7e-a7f4-8842667bab0e",
   "metadata": {
    "execution": {
     "iopub.execute_input": "2025-08-03T07:24:43.867364Z",
     "iopub.status.busy": "2025-08-03T07:24:43.867101Z",
     "iopub.status.idle": "2025-08-03T07:24:43.871532Z",
     "shell.execute_reply": "2025-08-03T07:24:43.870710Z",
     "shell.execute_reply.started": "2025-08-03T07:24:43.867347Z"
    }
   },
   "outputs": [],
   "source": [
    "import os\n",
    "os.chdir('./../')"
   ]
  },
  {
   "cell_type": "code",
   "execution_count": 2,
   "id": "3dac111e-2eaf-41a8-87c4-e01e58c0479a",
   "metadata": {
    "execution": {
     "iopub.execute_input": "2025-08-03T07:24:44.661396Z",
     "iopub.status.busy": "2025-08-03T07:24:44.661158Z",
     "iopub.status.idle": "2025-08-03T07:24:47.140527Z",
     "shell.execute_reply": "2025-08-03T07:24:47.139747Z",
     "shell.execute_reply.started": "2025-08-03T07:24:44.661380Z"
    }
   },
   "outputs": [
    {
     "name": "stderr",
     "output_type": "stream",
     "text": [
      "/home/somesh/PythonEnvs/P3.12_LLM/lib/python3.12/site-packages/tqdm/auto.py:21: TqdmWarning: IProgress not found. Please update jupyter and ipywidgets. See https://ipywidgets.readthedocs.io/en/stable/user_install.html\n",
      "  from .autonotebook import tqdm as notebook_tqdm\n"
     ]
    }
   ],
   "source": [
    "import dotenv\n",
    "import textwrap\n",
    "from typing import Annotated\n",
    "from typing_extensions import TypedDict\n",
    "\n",
    "import gradio as gr\n",
    "import nest_asyncio\n",
    "import requests\n",
    "from IPython.display import Image, display\n",
    "from langgraph import graph\n",
    "from langgraph import prebuilt\n",
    "from langchain.agents import Tool\n",
    "from langgraph.checkpoint.memory import MemorySaver\n",
    "from langchain_community.agent_toolkits import PlayWrightBrowserToolkit\n",
    "from langchain_community.tools.playwright.utils import create_async_playwright_browser\n",
    "from langchain_google_genai import ChatGoogleGenerativeAI\n",
    "\n",
    "dotenv.load_dotenv(override=True)\n",
    "\n",
    "from common.constants import Constants\n",
    "from common.tools.pushover import Pushover"
   ]
  },
  {
   "cell_type": "code",
   "execution_count": 3,
   "id": "efd59344-dddc-4e8a-830f-a15e045b4b4e",
   "metadata": {
    "execution": {
     "iopub.execute_input": "2025-08-03T07:24:48.012430Z",
     "iopub.status.busy": "2025-08-03T07:24:48.011598Z",
     "iopub.status.idle": "2025-08-03T07:24:48.018634Z",
     "shell.execute_reply": "2025-08-03T07:24:48.017539Z",
     "shell.execute_reply.started": "2025-08-03T07:24:48.012398Z"
    }
   },
   "outputs": [],
   "source": [
    "class State(TypedDict):    \n",
    "    messages: Annotated[list, graph.message.add_messages]"
   ]
  },
  {
   "cell_type": "code",
   "execution_count": 4,
   "id": "bccac8e9-4b72-4864-b3cb-2c4311af4460",
   "metadata": {
    "execution": {
     "iopub.execute_input": "2025-08-03T07:24:48.724022Z",
     "iopub.status.busy": "2025-08-03T07:24:48.723681Z",
     "iopub.status.idle": "2025-08-03T07:24:48.730134Z",
     "shell.execute_reply": "2025-08-03T07:24:48.728642Z",
     "shell.execute_reply.started": "2025-08-03T07:24:48.723999Z"
    }
   },
   "outputs": [],
   "source": [
    "graph_builder = graph.StateGraph(State)"
   ]
  },
  {
   "cell_type": "code",
   "execution_count": 5,
   "id": "30a294bb-7664-4b43-8ae1-a625ca35ae32",
   "metadata": {
    "execution": {
     "iopub.execute_input": "2025-08-03T07:24:49.345807Z",
     "iopub.status.busy": "2025-08-03T07:24:49.345546Z",
     "iopub.status.idle": "2025-08-03T07:24:49.350376Z",
     "shell.execute_reply": "2025-08-03T07:24:49.349410Z",
     "shell.execute_reply.started": "2025-08-03T07:24:49.345790Z"
    }
   },
   "outputs": [],
   "source": [
    "nest_asyncio.apply()"
   ]
  },
  {
   "cell_type": "code",
   "execution_count": 6,
   "id": "865b9d11-d2fc-4347-840e-cbe06d5f947c",
   "metadata": {
    "execution": {
     "iopub.execute_input": "2025-08-03T07:24:50.042661Z",
     "iopub.status.busy": "2025-08-03T07:24:50.042313Z",
     "iopub.status.idle": "2025-08-03T07:24:50.745820Z",
     "shell.execute_reply": "2025-08-03T07:24:50.744820Z",
     "shell.execute_reply.started": "2025-08-03T07:24:50.042636Z"
    }
   },
   "outputs": [
    {
     "data": {
      "text/plain": [
       "[ClickTool(async_browser=<Browser type=<BrowserType name=chromium executable_path=/home/somesh/.cache/ms-playwright/chromium-1181/chrome-linux/chrome> version=139.0.7258.5>),\n",
       " NavigateTool(async_browser=<Browser type=<BrowserType name=chromium executable_path=/home/somesh/.cache/ms-playwright/chromium-1181/chrome-linux/chrome> version=139.0.7258.5>),\n",
       " NavigateBackTool(async_browser=<Browser type=<BrowserType name=chromium executable_path=/home/somesh/.cache/ms-playwright/chromium-1181/chrome-linux/chrome> version=139.0.7258.5>),\n",
       " ExtractTextTool(async_browser=<Browser type=<BrowserType name=chromium executable_path=/home/somesh/.cache/ms-playwright/chromium-1181/chrome-linux/chrome> version=139.0.7258.5>),\n",
       " ExtractHyperlinksTool(async_browser=<Browser type=<BrowserType name=chromium executable_path=/home/somesh/.cache/ms-playwright/chromium-1181/chrome-linux/chrome> version=139.0.7258.5>),\n",
       " GetElementsTool(async_browser=<Browser type=<BrowserType name=chromium executable_path=/home/somesh/.cache/ms-playwright/chromium-1181/chrome-linux/chrome> version=139.0.7258.5>),\n",
       " CurrentWebPageTool(async_browser=<Browser type=<BrowserType name=chromium executable_path=/home/somesh/.cache/ms-playwright/chromium-1181/chrome-linux/chrome> version=139.0.7258.5>)]"
      ]
     },
     "execution_count": 6,
     "metadata": {},
     "output_type": "execute_result"
    }
   ],
   "source": [
    "async_browser =  create_async_playwright_browser(headless=False)\n",
    "toolkit = PlayWrightBrowserToolkit.from_browser(async_browser=async_browser)\n",
    "tools = toolkit.get_tools()\n",
    "tools"
   ]
  },
  {
   "cell_type": "code",
   "execution_count": 7,
   "id": "07fcce4f-bb53-4a12-aa4d-de443cb0bb1a",
   "metadata": {
    "execution": {
     "iopub.execute_input": "2025-08-03T07:24:54.159167Z",
     "iopub.status.busy": "2025-08-03T07:24:54.158564Z",
     "iopub.status.idle": "2025-08-03T07:24:54.163116Z",
     "shell.execute_reply": "2025-08-03T07:24:54.162262Z",
     "shell.execute_reply.started": "2025-08-03T07:24:54.159142Z"
    }
   },
   "outputs": [],
   "source": [
    "tool_dict = {tool.name:tool for tool in tools}\n",
    "navigate_tool = tool_dict.get(\"navigate_browser\")\n",
    "extract_text_tool = tool_dict.get(\"extract_text\")"
   ]
  },
  {
   "cell_type": "code",
   "execution_count": 8,
   "id": "8e80d5f8-a6b3-4caf-908f-07bd345e94b1",
   "metadata": {
    "execution": {
     "iopub.execute_input": "2025-08-03T07:24:55.248095Z",
     "iopub.status.busy": "2025-08-03T07:24:55.247836Z",
     "iopub.status.idle": "2025-08-03T07:24:58.687395Z",
     "shell.execute_reply": "2025-08-03T07:24:58.686343Z",
     "shell.execute_reply.started": "2025-08-03T07:24:55.248078Z"
    }
   },
   "outputs": [
    {
     "name": "stderr",
     "output_type": "stream",
     "text": [
      "Failed to send compressed multipart ingest: langsmith.utils.LangSmithError: Failed to POST https://api.smith.langchain.com/runs/multipart in LangSmith API. HTTPError('400 Client Error: Bad Request for url: https://api.smith.langchain.com/runs/multipart', '{\"error\":\"Bad request: invalid \\'dotted_order\\': dotted_order 2b2dd596-093a-4a2d-854f-62777ed829fa has timestamp 2025-08-03 07:28:09.08307 +0000 UTC earlier than parent timestamp 2025-08-03 07:28:09.887898 +0000 UTC for run_id:2b2dd596-093a-4a2d-854f-62777ed829fa trace_id:a01dceaf-2959-4c1d-9258-425b4db57281 dotted_order:20250803T072809884606Za01dceaf-2959-4c1d-9258-425b4db57281.20250803T072809887898Z388bc671-2902-4fb8-a034-ada00016a23d.20250803T072809083070Z2b2dd596-093a-4a2d-854f-62777ed829fa parent_run_id:388bc671-2902-4fb8-a034-ada00016a23d\"}\\n')\n"
     ]
    }
   ],
   "source": [
    "await navigate_tool.arun({\"url\": \"https://someshchatterjee.com\"})\n",
    "text = await extract_text_tool.arun({})"
   ]
  },
  {
   "cell_type": "code",
   "execution_count": 9,
   "id": "0d8599fa-2f3d-42aa-83b4-ff4ed49bb019",
   "metadata": {
    "execution": {
     "iopub.execute_input": "2025-08-03T07:25:07.990640Z",
     "iopub.status.busy": "2025-08-03T07:25:07.990407Z",
     "iopub.status.idle": "2025-08-03T07:25:07.999374Z",
     "shell.execute_reply": "2025-08-03T07:25:07.998168Z",
     "shell.execute_reply.started": "2025-08-03T07:25:07.990624Z"
    }
   },
   "outputs": [
    {
     "name": "stdout",
     "output_type": "stream",
     "text": [
      "Somesh Chatterjee Somesh Chatterjee Developer @ Heart Pages Home About\n",
      "Saturday, May 11, 2019 Problems of the 'new' keyword How do we create\n",
      "an object in most languages? It's by using the 'new' keyword and\n",
      "there's a big problem lurking in there! Some languages of-course skip\n",
      "it, like Python, where you can create an instance of class just by\n",
      "doing 'ClassName()' instead of 'new ClassName()' but the underlying\n",
      "problem remains the same. The new keyword causes our codes to get\n",
      "coupled. Let's take this simple example: interface IShape {   public\n",
      "string Name { get; } } class Square : IShape {   public string Name {\n",
      "get; private set; }   public Square()   {     Name = \"Square\";   } }\n",
      "class Circle : IShape {   public string Name { get; private set; }\n",
      "public Circle()   {     Name = \"Circle\";   } } class ShapeHolder {\n",
      "public IShape Shape { get; private set; }   ShapeHolder()   {\n",
      "shape = new Square();   } } If we see the above example, even though\n",
      "we have used an interface 'IShape', our ShapeHolder is now tightly\n",
      "coupled to the Square instance. It can never ever hold an instance of\n",
      "a circle. This may seem fine but this causes two major problems: Unit\n",
      "Tests: There's no way to test ShapeHolder independently of Square\n",
      "class. Any test written for ShapeHolder would end up working with a\n",
      "concrete instance of Square class. If Square class was modified later\n",
      "to start using network access or a db call, unit tests of ShapeHolder\n",
      "may start failing or take up huge amounts of time, as the testing\n",
      "environment won't have the necessary setups. Extensibility: The above\n",
      "code doesn't show run time polymorphism. In future if a new shape\n",
      "comes in, which must work with the ShapeHolder class, we will have to\n",
      "modify the ShapeHolder class too. This may in-turn cause some other\n",
      "class to be modified. This is a violation of open closed principle.\n",
      "The main way to solve this is to use Dependency Inversion. Instead of\n",
      "ShapeHolder being responsible for creating the Square class, it should\n",
      "be passed in to the class, either via the parameter of the constructor\n",
      "or using something like the Factory design pattern. Now at runtime we\n",
      "can change which IShape type is being held by the ShapeHolder. For\n",
      "unit tests, this can be a simple MockShape class. Posted by Somesh\n",
      "Chatterjee at 3:33 AM No comments: Email This BlogThis! Share to X\n",
      "Share to Facebook Share to Pinterest Labels: Technical , Testing ,\n",
      "Unit Testing Friday, May 10, 2019 Space Based Architecture Photo\n",
      "credit: https://en.wikipedia.org/wiki/Space-based_architecture Like\n",
      "CQRS (Command Query Responsibility Segregation), this architecture is\n",
      "used for high scalability and performance. In a typical setup there is\n",
      "usually a client, an application server  and a database. Whenever load\n",
      "increases, we can increase the number  servers handling the client\n",
      "requests, once we fix that we soon find that  the application server\n",
      "handing all the business logic is now the  bottleneck. Once we scale\n",
      "that up we are pass the bottleneck on to the  database. Unlike the\n",
      "previous layers, scaling up the database is very tough.  Databases are\n",
      "not really meant to be scaled. Sure, there are solutions  out there\n",
      "which try to address this, but it’s difficult and expensive. This\n",
      "pattern tries to address that bottleneck – the database. In this\n",
      "architecture, there are 5 components: Processing Unit Middle ware\n",
      "Message grid Data Grid Processing Grid Deployment Manager The\n",
      "processing unit is the component which houses the business\n",
      "application. Its complete with it’s own persistence store (the\n",
      "database)  and is self sufficient. Message Grid is responsible for\n",
      "orchestrating the various requests from client to the different\n",
      "processing units. Data Grid: It’s responsible for keeping the data in\n",
      "sync within all the individual persistence stores in the processing\n",
      "units. Processing Grid: Often the request is split between multiple\n",
      "processing units to get even better throughput. Processing grid is\n",
      "responsible for this. Deployment Manager: As the load increases, it’s\n",
      "responsible for  spawning up more processing units. Similarly when the\n",
      "load decreases,  it’s responsible for getting the number of processing\n",
      "units down. The reason why this architecture effectively solves the\n",
      "database  bottleneck problem is that in this solution there is no\n",
      "common  repository. Every processing unit has it’s persistence store.\n",
      "So the  database never becomes a bottleneck here. Also, as the load\n",
      "increases/decreases, the system scales accordingly. So, both CQRS and\n",
      "Space Based Architecture support scalability by  having multiple\n",
      "instances of the databases. The Space Based Architecture  scales the\n",
      "system dynamically based on the load, however, with this  additional\n",
      "power comes the additional complexity. If the load fluctuates  a lot,\n",
      "then Space Based Architecture is the better option. Posted by Somesh\n",
      "Chatterjee at 11:52 AM No comments: Email This BlogThis! Share to X\n",
      "Share to Facebook Share to Pinterest Labels: Architecture , Technical\n",
      "A More Beautiful Question This is an amazing book and it’s all about\n",
      "how to innovate. The  author raises a very interesting point that we\n",
      "are always running after  answers however, to come up with something\n",
      "truly innovative, we must ask  the ‘More Beautiful Question’. So what\n",
      "does it mean to ask the more beautiful question? It can be broken down\n",
      "into 3 main steps: Why? As we grow up, our minds become more rigid and\n",
      "accept a lot of things  because that’s how it has always been. We stop\n",
      "asking this basic  question – why? The application is slow, um, that’s\n",
      "because it’s a large  system which needs to serve multiple requests\n",
      "concurrently. No, we need  to step back and ask – why? Why is the\n",
      "application slow and come to the  root cause. What if? Now that we\n",
      "have identified the probable root cause, next question is  ‘what-if’?\n",
      "In this step we must forget about all constraints and what’s\n",
      "practical and impractical. We should just come up with all solutions\n",
      "that we can think of, and as stated before these does not have to be\n",
      "practical. This is important to understand, as an absurd idea in\n",
      "itself  may not be of much value but it can lead to more and more\n",
      "ideas some  which may actually be viable. How? Now, that we have\n",
      "brainstormed a lot of solutions to the given problem,  now is the time\n",
      "to figure out what actually is practical of all the  options\n",
      "mentioned. Which one of these can be really achieved given the\n",
      "current constraints and one or two may actually fit the bill. What\n",
      "happened in this exercise is that we kept aside the practical  aspects\n",
      "till the last stage and let our thoughts move freely beyond any\n",
      "restrictions. By taking a step back and not chasing after answers we\n",
      "have allowed ourselves to think beyond the obvious and come up some\n",
      "potentially unique solutions. Posted by Somesh Chatterjee at 11:50 AM\n",
      "No comments: Email This BlogThis! Share to X Share to Facebook Share\n",
      "to Pinterest Labels: Innovation , Technical CQRS Software architecture\n",
      "has evolved a long way from the standard 3 tier  architecture. A lot\n",
      "of the previous architectures were optimized for the  constraints\n",
      "present at that time like limited resources but with time  such\n",
      "restrictions no longer apply. The most promising of the new\n",
      "architecture is the Domain Centric  Architecture which places domain\n",
      "right at the center of the  architecture. But more on the domain\n",
      "driven design later. Another interesting concept is CQRS – Command\n",
      "Query Responsibility  Segregation. This is useful for creating a\n",
      "system optimized for  performance. The principle is simple, keep the\n",
      "command and query  separate. Command is anything that changes the\n",
      "state of the system on the other  hand query requests some information\n",
      "from the system. A query should  never alter the state of the system\n",
      "and the command should ideally not  return some information. Of-\n",
      "course, a strong distinction is not always  possible, a command does\n",
      "often return whether it was successful or not  but keeping them\n",
      "separate leads to a lot of benefits. Code level: CQRS should be even\n",
      "strived at a code level. A function responsible for  fetching some\n",
      "information should never alter the state of the class. As  the\n",
      "codebase grows, a public facing getter API can be called from\n",
      "different modules. It’s next to impossible to control that and other\n",
      "modules may not have enough information to identify when a simple get\n",
      "call ended up altering the state of system inadvertently. Architecture\n",
      "level: A lot of the features in the software are data-read heavy and\n",
      "usually a  smaller set of features in the software actually update the\n",
      "data. If we  keep them separate we can scale them independently. The\n",
      "‘Query’ module  having optimized for fast reads and ‘Command’ module\n",
      "optimized for  writes. In a little more advanced version of CQRS, both\n",
      "the stacks can  have independent databases. Every write into the main\n",
      "database is then  synchronized with the database meant for ‘read’. For\n",
      "short duration  these databases will be out of sync but this leads to\n",
      "highly performant  systems and the performance won’t degrade as you\n",
      "scale the system. There are downsides of it too. Implementing CQRS\n",
      "makes the architecture  complex and should not be used if the\n",
      "performance and scalability are  not the primary needs of the\n",
      "software. Also, the query and command  stacks will have data which\n",
      "will be out of sync which leads to  additional complexity in the\n",
      "system. Posted by Somesh Chatterjee at 11:48 AM No comments: Email\n",
      "This BlogThis! Share to X Share to Facebook Share to Pinterest Labels:\n",
      "Architecture , Technical Technical Expertise I was going through a\n",
      "course on software architecture and I came across an interesting\n",
      "concept. It’s  nothing too uncommon but it’s something I haven’t paid\n",
      "attention to. In the simplest terms it states that our knowledge is\n",
      "like a pyramid.  What we know forms a small part on the top of the\n",
      "pyramid. What we know  that we don’t know forms the next layer. But\n",
      "what really takes up the  most chunk are stuff we don’t know that we\n",
      "don’t know about. An example of this might be that I need to create an\n",
      "application  which should run across iOS, Android and Windows phone.\n",
      "Given this  requirement I might blindly start using a framework like\n",
      "‘Xamarin’ and  start implementation. What I did not know that there is\n",
      "another way –  creating a ‘hybrid’ app using the ‘webview’ component\n",
      "present in all the  three SDKs. While at the end of the day Xamarin\n",
      "might still be the  better choice, based on the requirements, but now\n",
      "knowing that another  approach exists, we missed out on an opportunity\n",
      "to create a simpler  solution. Also, as we grow in our careers we need\n",
      "to move things out of the  lower triangle and at-least move it into\n",
      "the middle triangle, so that  whenever an opportunity presents itself,\n",
      "we know that a way to tackle  the problem already exists. This\n",
      "increases our ‘technical breadth’ which  is more useful than\n",
      "‘technical depth’ as we go higher up the technical  career path.\n",
      "Posted by Somesh Chatterjee at 11:46 AM No comments: Email This\n",
      "BlogThis! Share to X Share to Facebook Share to Pinterest Labels:\n",
      "Technical Mind Scripts As we saw in the last post, making the first\n",
      "impression right is very  important. But often we are faced with\n",
      "precarious situations where it’s  not easy. It could be that we are\n",
      "going for the interview for the dream  job in the dream company so we\n",
      "are nervous and being nervous can lead  to a very bad first\n",
      "impression. How do we overcome this? In his book ‘The Full Facts Book\n",
      "of Cold Reading’, Ian Rowland gives a very simple solution: ‘Mind\n",
      "Scripts’. So what are ‘Mind Scripts’? It’s nothing but repeating a\n",
      "small  positive statement about the upcoming encounter. So in this\n",
      "scenario it  could be something like this: ‘I am prepared, I’ll do\n",
      "good and they will  like me.’ Keep repeating this in your mind till\n",
      "the initial  conversation starts. This makes a good impact on out\n",
      "mindset and body  language. You should also checkout the book for\n",
      "other interesting facts like  how to ‘foretell’ someone’s past and\n",
      "future using some clever tricks. Posted by Somesh Chatterjee at\n",
      "11:44 AM No comments: Email This BlogThis! Share to X Share to\n",
      "Facebook Share to Pinterest Labels: Psychology First Impressions are\n",
      "Key Roger is smart, intelligent proud and lazy. Smith is lazy, proud,\n",
      "intelligent and smart. So, of the two who do you think is the better\n",
      "person? Roger, right? Isn’t it obvious? Well, not really. They both\n",
      "have the same qualities. Only difference  being that in case of Roger\n",
      "adjectives like ‘smart’ and ‘intelligent’  were used first and for\n",
      "Smith they were used later. So our first  impression of Roger was that\n",
      "of a smart person and that of Smith was of a  lazy person. So, you\n",
      "see. Even simple statements like the ones above can create a  impact\n",
      "and these are not to be taken lightly. In the book – ‘ Social Animal ’\n",
      "Elliot Aronson highlights a number of psychological experiments where\n",
      "the impact is clearly seen. For example, assume Roger and Smith are\n",
      "students in your class. Initially, Roger does well but over time\n",
      "Roger’s  grades fall and Smith’s catches up. You are more likely to\n",
      "believe  Roger is the true genius of the two but his mind is little\n",
      "diverted for  the time being where as Smith is not that bright but is\n",
      "working hard  these days. Posted by Somesh Chatterjee at 11:43 AM No\n",
      "comments: Email This BlogThis! Share to X Share to Facebook Share to\n",
      "Pinterest Labels: Psychology Older Posts Home Subscribe to: Posts\n",
      "(Atom) About Me Somesh Chatterjee A developer who loves to code,\n",
      "occasionally experiments in photography and likes reading about Human\n",
      "Psychology View my complete profile Labels Architecture Innovation\n",
      "JQuery LINUX MEAN Online IDE Procrastination Psychology Technical\n",
      "Testing Unit Testing Web WPF Search Contact Name Email * Message *\n",
      "Archive ▼ 2019 (12) ▼ May (12) Problems of the 'new' keyword Space\n",
      "Based Architecture A More Beautiful Question CQRS Technical Expertise\n",
      "Mind Scripts First Impressions are Key Key to Success – How not to\n",
      "approach your supervisor How to beat Procrastination – A Stitch in\n",
      "Time sav... WPF – Using Dispatcher vs SynchronizationContext Devs\n",
      "rejoice – LINUX dev environment on the CLOUD ... Sharing and Applying\n",
      "multiple Event Handlers – Jav... Picture Window theme. Theme images by\n",
      "piskunov . Powered by Blogger .\n"
     ]
    }
   ],
   "source": [
    "print(textwrap.fill(text))"
   ]
  },
  {
   "cell_type": "code",
   "execution_count": 10,
   "id": "fd373fda-81d7-4c69-bd8d-15acd19cb740",
   "metadata": {
    "execution": {
     "iopub.execute_input": "2025-08-03T07:25:09.934913Z",
     "iopub.status.busy": "2025-08-03T07:25:09.934646Z",
     "iopub.status.idle": "2025-08-03T07:25:09.938953Z",
     "shell.execute_reply": "2025-08-03T07:25:09.937854Z",
     "shell.execute_reply.started": "2025-08-03T07:25:09.934895Z"
    }
   },
   "outputs": [],
   "source": [
    "tool_push = Tool(name=\"send_push_notification\", func=Pushover.push, description=\"useful for when you want to send a push notification\")"
   ]
  },
  {
   "cell_type": "code",
   "execution_count": 11,
   "id": "d88d70bd-464e-475a-bcdc-9e9d2d0d2995",
   "metadata": {
    "execution": {
     "iopub.execute_input": "2025-08-03T07:25:11.759487Z",
     "iopub.status.busy": "2025-08-03T07:25:11.759139Z",
     "iopub.status.idle": "2025-08-03T07:25:11.764336Z",
     "shell.execute_reply": "2025-08-03T07:25:11.763122Z",
     "shell.execute_reply.started": "2025-08-03T07:25:11.759463Z"
    }
   },
   "outputs": [],
   "source": [
    "all_tools = tools + [tool_push]"
   ]
  },
  {
   "cell_type": "code",
   "execution_count": 12,
   "id": "f6dd7a11-8f3f-40b3-ab5c-a4e3f3a6ac04",
   "metadata": {
    "execution": {
     "iopub.execute_input": "2025-08-03T07:25:12.832181Z",
     "iopub.status.busy": "2025-08-03T07:25:12.831830Z",
     "iopub.status.idle": "2025-08-03T07:25:12.959789Z",
     "shell.execute_reply": "2025-08-03T07:25:12.959003Z",
     "shell.execute_reply.started": "2025-08-03T07:25:12.832155Z"
    }
   },
   "outputs": [],
   "source": [
    "llm = ChatGoogleGenerativeAI(model=Constants.GEMINI_MODEL_LITE)\n",
    "llm_with_tools = llm.bind_tools(all_tools)\n",
    "\n",
    "def chatbot(state: State):\n",
    "    return {\"messages\": [llm_with_tools.invoke(state[\"messages\"])]}"
   ]
  },
  {
   "cell_type": "code",
   "execution_count": 13,
   "id": "5dfe2bcd-05ac-4160-8f8b-f13ca1a7069e",
   "metadata": {
    "execution": {
     "iopub.execute_input": "2025-08-03T07:25:13.868383Z",
     "iopub.status.busy": "2025-08-03T07:25:13.868102Z",
     "iopub.status.idle": "2025-08-03T07:25:13.885310Z",
     "shell.execute_reply": "2025-08-03T07:25:13.883815Z",
     "shell.execute_reply.started": "2025-08-03T07:25:13.868364Z"
    }
   },
   "outputs": [
    {
     "data": {
      "text/plain": [
       "<langgraph.graph.state.StateGraph at 0x7f55281c3b60>"
      ]
     },
     "execution_count": 13,
     "metadata": {},
     "output_type": "execute_result"
    }
   ],
   "source": [
    "graph_builder = graph.StateGraph(State)\n",
    "graph_builder.add_node(\"chatbot\", chatbot)\n",
    "graph_builder.add_node(\"tools\", prebuilt.ToolNode(tools=all_tools))\n",
    "graph_builder.add_conditional_edges(\"chatbot\", prebuilt.tools_condition, \"tools\")\n",
    "graph_builder.add_edge(\"tools\", \"chatbot\")\n",
    "graph_builder.add_edge(graph.START, \"chatbot\")"
   ]
  },
  {
   "cell_type": "code",
   "execution_count": 14,
   "id": "0703cd50-bb4f-4c77-aa9e-13a943ff1e1e",
   "metadata": {
    "execution": {
     "iopub.execute_input": "2025-08-03T07:25:15.252738Z",
     "iopub.status.busy": "2025-08-03T07:25:15.252425Z",
     "iopub.status.idle": "2025-08-03T07:25:15.466887Z",
     "shell.execute_reply": "2025-08-03T07:25:15.465932Z",
     "shell.execute_reply.started": "2025-08-03T07:25:15.252718Z"
    }
   },
   "outputs": [
    {
     "data": {
      "image/png": "[encoded data removed]",
      "text/plain": [
       "<IPython.core.display.Image object>"
      ]
     },
     "metadata": {},
     "output_type": "display_data"
    }
   ],
   "source": [
    "memory = MemorySaver()\n",
    "state_graph = graph_builder.compile(checkpointer=memory)\n",
    "display(Image(state_graph.get_graph().draw_mermaid_png()))"
   ]
  },
  {
   "cell_type": "code",
   "execution_count": 15,
   "id": "5dc8837e-46af-4ab1-9642-eaefa85ae5c3",
   "metadata": {
    "execution": {
     "iopub.execute_input": "2025-08-03T07:25:18.909209Z",
     "iopub.status.busy": "2025-08-03T07:25:18.908961Z",
     "iopub.status.idle": "2025-08-03T07:25:19.408450Z",
     "shell.execute_reply": "2025-08-03T07:25:19.407653Z",
     "shell.execute_reply.started": "2025-08-03T07:25:18.909192Z"
    }
   },
   "outputs": [
    {
     "name": "stdout",
     "output_type": "stream",
     "text": [
      "* Running on local URL:  http://127.0.0.1:7860\n",
      "* To create a public link, set `share=True` in `launch()`.\n"
     ]
    },
    {
     "data": {
      "text/html": [
       "<div><iframe src=\"http://127.0.0.1:7860/\" width=\"100%\" height=\"500\" allow=\"autoplay; camera; microphone; clipboard-read; clipboard-write;\" frameborder=\"0\" allowfullscreen></iframe></div>"
      ],
      "text/plain": [
       "<IPython.core.display.HTML object>"
      ]
     },
     "metadata": {},
     "output_type": "display_data"
    },
    {
     "data": {
      "text/plain": []
     },
     "execution_count": 15,
     "metadata": {},
     "output_type": "execute_result"
    }
   ],
   "source": [
    "config = {\"configurable\": {\"thread_id\": \"10\"}}\n",
    "\n",
    "async def chat(user_input: str, history):\n",
    "    result = await state_graph.ainvoke({\"messages\": [{\"role\": \"user\", \"content\": user_input}]}, config=config)\n",
    "    return result[\"messages\"][-1].content\n",
    "\n",
    "\n",
    "gr.ChatInterface(chat, type=\"messages\").launch()"
   ]
  },
  {
   "cell_type": "code",
   "execution_count": null,
   "id": "0fdd8e34-f23d-41c6-927d-fc326fbd7a8a",
   "metadata": {},
   "outputs": [],
   "source": []
  }
 ],
 "metadata": {
  "kernelspec": {
   "display_name": "Python 3 (ipykernel)",
   "language": "python",
   "name": "python3"
  },
  "language_info": {
   "codemirror_mode": {
    "name": "ipython",
    "version": 3
   },
   "file_extension": ".py",
   "mimetype": "text/x-python",
   "name": "python",
   "nbconvert_exporter": "python",
   "pygments_lexer": "ipython3",
   "version": "3.12.11"
  }
 },
 "nbformat": 4,
 "nbformat_minor": 5
}
