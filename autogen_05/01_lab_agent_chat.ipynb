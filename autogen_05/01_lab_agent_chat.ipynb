{
 "cells": [
  {
   "cell_type": "markdown",
   "id": "07da5809-2754-4ea4-87f1-6ce1f77f6877",
   "metadata": {},
   "source": [
    "## Prereqs:\n",
    "\n",
    "pip install autogen-agentchat==0.5.1  \n",
    "pip install autogen-ext[gemini]==0.5.1  \n",
    "pip install autogen-agentchat==0.5.1  "
   ]
  },
  {
   "cell_type": "code",
   "execution_count": 1,
   "id": "62673127-d53d-4660-9663-f1e8d44cece2",
   "metadata": {
    "execution": {
     "iopub.execute_input": "2025-07-31T04:44:16.421236Z",
     "iopub.status.busy": "2025-07-31T04:44:16.421000Z",
     "iopub.status.idle": "2025-07-31T04:44:16.447639Z",
     "shell.execute_reply": "2025-07-31T04:44:16.444233Z",
     "shell.execute_reply.started": "2025-07-31T04:44:16.421216Z"
    }
   },
   "outputs": [],
   "source": [
    "import os\n",
    "os.chdir('./../')"
   ]
  },
  {
   "cell_type": "code",
   "execution_count": 2,
   "id": "393ef45b-e427-4396-b9db-effc22ad2e54",
   "metadata": {
    "execution": {
     "iopub.execute_input": "2025-07-31T04:44:16.450165Z",
     "iopub.status.busy": "2025-07-31T04:44:16.449877Z",
     "iopub.status.idle": "2025-07-31T04:44:17.838286Z",
     "shell.execute_reply": "2025-07-31T04:44:17.836829Z",
     "shell.execute_reply.started": "2025-07-31T04:44:16.450144Z"
    }
   },
   "outputs": [],
   "source": [
    "import sqlite3\n",
    "from dotenv import load_dotenv\n",
    "\n",
    "from autogen_agentchat.agents import AssistantAgent\n",
    "from autogen_agentchat.messages import TextMessage\n",
    "from autogen_core import CancellationToken\n",
    "from autogen_core.models import ModelFamily\n",
    "from autogen_ext.models.openai import OpenAIChatCompletionClient\n",
    "\n",
    "from common.constants import Constants"
   ]
  },
  {
   "cell_type": "code",
   "execution_count": 3,
   "id": "1f9798ee-d9e7-4980-95fa-404e5f86e0bc",
   "metadata": {
    "execution": {
     "iopub.execute_input": "2025-07-31T04:44:17.841461Z",
     "iopub.status.busy": "2025-07-31T04:44:17.840723Z",
     "iopub.status.idle": "2025-07-31T04:44:17.854337Z",
     "shell.execute_reply": "2025-07-31T04:44:17.852995Z",
     "shell.execute_reply.started": "2025-07-31T04:44:17.841438Z"
    }
   },
   "outputs": [
    {
     "data": {
      "text/plain": [
       "True"
      ]
     },
     "execution_count": 3,
     "metadata": {},
     "output_type": "execute_result"
    }
   ],
   "source": [
    "load_dotenv(override=True)"
   ]
  },
  {
   "cell_type": "code",
   "execution_count": 4,
   "id": "82c08310-dbe9-42b2-9fa2-994cf5802dc5",
   "metadata": {
    "execution": {
     "iopub.execute_input": "2025-07-31T04:44:17.855850Z",
     "iopub.status.busy": "2025-07-31T04:44:17.855535Z",
     "iopub.status.idle": "2025-07-31T04:44:17.969726Z",
     "shell.execute_reply": "2025-07-31T04:44:17.968693Z",
     "shell.execute_reply.started": "2025-07-31T04:44:17.855829Z"
    }
   },
   "outputs": [],
   "source": [
    "model_client = OpenAIChatCompletionClient(model=Constants.GEMINI_MODEL_LITE, \n",
    "                                          api_key=os.getenv(Constants.GOOGLE_API_KEY),\n",
    "                                          model_info={'vision': True,\n",
    "                                                      'function_calling': True,\n",
    "                                                      'json_output': True,\n",
    "                                                      'family': ModelFamily.GEMINI_2_0_FLASH,\n",
    "                                                      'structured_output': True})"
   ]
  },
  {
   "cell_type": "code",
   "execution_count": 5,
   "id": "c1b0fb33-0b6d-4b06-a703-eb9ed2fb598b",
   "metadata": {
    "execution": {
     "iopub.execute_input": "2025-07-31T04:44:17.970911Z",
     "iopub.status.busy": "2025-07-31T04:44:17.970633Z",
     "iopub.status.idle": "2025-07-31T04:44:17.978079Z",
     "shell.execute_reply": "2025-07-31T04:44:17.976914Z",
     "shell.execute_reply.started": "2025-07-31T04:44:17.970892Z"
    }
   },
   "outputs": [
    {
     "data": {
      "text/plain": [
       "TextMessage(source='user', models_usage=None, metadata={}, content=\"I'd like to go to London\", type='TextMessage')"
      ]
     },
     "execution_count": 5,
     "metadata": {},
     "output_type": "execute_result"
    }
   ],
   "source": [
    "message = TextMessage(content=\"I'd like to go to London\", source=\"user\")\n",
    "message"
   ]
  },
  {
   "cell_type": "code",
   "execution_count": 6,
   "id": "8bd8cbbc-b10c-4a0e-80a6-3c64da6f74f9",
   "metadata": {
    "execution": {
     "iopub.execute_input": "2025-07-31T04:44:17.979316Z",
     "iopub.status.busy": "2025-07-31T04:44:17.979024Z",
     "iopub.status.idle": "2025-07-31T04:44:17.989157Z",
     "shell.execute_reply": "2025-07-31T04:44:17.988039Z",
     "shell.execute_reply.started": "2025-07-31T04:44:17.979295Z"
    }
   },
   "outputs": [],
   "source": [
    "agent = AssistantAgent(\n",
    "    name=\"airline_agent\",\n",
    "    model_client=model_client,\n",
    "    system_message=\"You are a helpful assistant for an airline. You give short, humorous answers.\",\n",
    "    model_client_stream=True\n",
    ")"
   ]
  },
  {
   "cell_type": "code",
   "execution_count": 7,
   "id": "6442e753-51bb-4ce4-8648-9fdc334b58f1",
   "metadata": {
    "execution": {
     "iopub.execute_input": "2025-07-31T04:44:17.990399Z",
     "iopub.status.busy": "2025-07-31T04:44:17.990104Z",
     "iopub.status.idle": "2025-07-31T04:44:19.334804Z",
     "shell.execute_reply": "2025-07-31T04:44:19.333171Z",
     "shell.execute_reply.started": "2025-07-31T04:44:17.990379Z"
    }
   },
   "outputs": [
    {
     "data": {
      "text/plain": [
       "'Ah, London! Excellent choice. Just try not to lose your umbrella, it\\'s practically a national treasure over there. We\\'ll get you there faster than you can say \"Mind the gap!\"'"
      ]
     },
     "execution_count": 7,
     "metadata": {},
     "output_type": "execute_result"
    }
   ],
   "source": [
    "response = await agent.on_messages([message], cancellation_token=CancellationToken())\n",
    "response.chat_message.content"
   ]
  },
  {
   "cell_type": "code",
   "execution_count": 8,
   "id": "1fe7c3c5-53f6-4621-a80f-d7540e210d23",
   "metadata": {
    "execution": {
     "iopub.execute_input": "2025-07-31T04:44:19.336665Z",
     "iopub.status.busy": "2025-07-31T04:44:19.336238Z",
     "iopub.status.idle": "2025-07-31T04:44:19.370146Z",
     "shell.execute_reply": "2025-07-31T04:44:19.369249Z",
     "shell.execute_reply.started": "2025-07-31T04:44:19.336635Z"
    }
   },
   "outputs": [],
   "source": [
    "_DB_NAME_WITH_PATH = './autogen_05/tickets.db'\n",
    "\n",
    "if os.path.exists(_DB_NAME_WITH_PATH):\n",
    "    os.remove(_DB_NAME_WITH_PATH)\n",
    "\n",
    "conn = sqlite3.connect(_DB_NAME_WITH_PATH)\n",
    "c = conn.cursor()\n",
    "c.execute(\"CREATE TABLE cities (city_name TEXT PRIMARY KEY, round_trip_price REAL)\")\n",
    "conn.commit()\n",
    "conn.close()"
   ]
  },
  {
   "cell_type": "code",
   "execution_count": 9,
   "id": "9c0fb2b6-87d9-449a-9a63-8ec107dc0222",
   "metadata": {
    "execution": {
     "iopub.execute_input": "2025-07-31T04:44:19.371352Z",
     "iopub.status.busy": "2025-07-31T04:44:19.371074Z",
     "iopub.status.idle": "2025-07-31T04:44:19.470141Z",
     "shell.execute_reply": "2025-07-31T04:44:19.468642Z",
     "shell.execute_reply.started": "2025-07-31T04:44:19.371330Z"
    }
   },
   "outputs": [],
   "source": [
    "def save_city_price(city_name, round_trip_price):\n",
    "    with sqlite3.connect(_DB_NAME_WITH_PATH) as conn:\n",
    "        c = conn.cursor()\n",
    "        c.execute(\"REPLACE INTO cities (city_name, round_trip_price) VALUES (?, ?)\", (city_name.lower(), round_trip_price))\n",
    "        conn.commit()\n",
    "\n",
    "# Some cities!\n",
    "save_city_price(\"London\", 299)\n",
    "save_city_price(\"Paris\", 399)\n",
    "save_city_price(\"Rome\", 499)\n",
    "save_city_price(\"Madrid\", 550)\n",
    "save_city_price(\"Barcelona\", 580)\n",
    "save_city_price(\"Berlin\", 525)"
   ]
  },
  {
   "cell_type": "code",
   "execution_count": 10,
   "id": "d244bca1-0abb-48b0-b2ab-aed4cccb941f",
   "metadata": {
    "execution": {
     "iopub.execute_input": "2025-07-31T04:44:19.471788Z",
     "iopub.status.busy": "2025-07-31T04:44:19.471367Z",
     "iopub.status.idle": "2025-07-31T04:44:19.479485Z",
     "shell.execute_reply": "2025-07-31T04:44:19.478016Z",
     "shell.execute_reply.started": "2025-07-31T04:44:19.471762Z"
    }
   },
   "outputs": [],
   "source": [
    "def get_city_price(city_name: str) -> float | None:\n",
    "    \"\"\" Get the roundtrip ticket price to travel to the city \"\"\"\n",
    "    with sqlite3.connect(_DB_NAME_WITH_PATH) as conn:\n",
    "        c = conn.cursor()\n",
    "        c.execute(\"SELECT round_trip_price FROM cities WHERE city_name = ?\", (city_name.lower(),))\n",
    "        result = c.fetchone()\n",
    "    return result[0] if result else None"
   ]
  },
  {
   "cell_type": "code",
   "execution_count": 11,
   "id": "cc06d7a8-be13-433e-842f-ae7453d99260",
   "metadata": {
    "execution": {
     "iopub.execute_input": "2025-07-31T04:44:19.481190Z",
     "iopub.status.busy": "2025-07-31T04:44:19.480795Z",
     "iopub.status.idle": "2025-07-31T04:44:19.491467Z",
     "shell.execute_reply": "2025-07-31T04:44:19.489929Z",
     "shell.execute_reply.started": "2025-07-31T04:44:19.481161Z"
    }
   },
   "outputs": [
    {
     "data": {
      "text/plain": [
       "499.0"
      ]
     },
     "execution_count": 11,
     "metadata": {},
     "output_type": "execute_result"
    }
   ],
   "source": [
    "get_city_price(\"Rome\")"
   ]
  },
  {
   "cell_type": "code",
   "execution_count": 12,
   "id": "c93a3939-e6bf-4079-b9d7-30b0cc1e5f13",
   "metadata": {
    "execution": {
     "iopub.execute_input": "2025-07-31T04:44:19.493524Z",
     "iopub.status.busy": "2025-07-31T04:44:19.492977Z",
     "iopub.status.idle": "2025-07-31T04:44:19.505896Z",
     "shell.execute_reply": "2025-07-31T04:44:19.504168Z",
     "shell.execute_reply.started": "2025-07-31T04:44:19.493477Z"
    }
   },
   "outputs": [],
   "source": [
    "smart_agent = AssistantAgent(\n",
    "    name=\"smart_airline_agent\",\n",
    "    model_client=model_client,\n",
    "    system_message=\"You are a helpful assistant for an airline. You give short, humorous answers, including the price of a roundtrip ticket.\",\n",
    "    model_client_stream=True,\n",
    "    tools=[get_city_price],\n",
    "    reflect_on_tool_use=True\n",
    ")"
   ]
  },
  {
   "cell_type": "code",
   "execution_count": 13,
   "id": "3e2311cc-5518-4ba4-873c-93e7118638c1",
   "metadata": {
    "execution": {
     "iopub.execute_input": "2025-07-31T04:44:19.507760Z",
     "iopub.status.busy": "2025-07-31T04:44:19.507367Z",
     "iopub.status.idle": "2025-07-31T04:44:21.771561Z",
     "shell.execute_reply": "2025-07-31T04:44:21.770193Z",
     "shell.execute_reply.started": "2025-07-31T04:44:19.507732Z"
    }
   },
   "outputs": [
    {
     "name": "stdout",
     "output_type": "stream",
     "text": [
      "[FunctionCall(id='', arguments='{\"city_name\":\"London\"}', name='get_city_price')]\n",
      "[FunctionExecutionResult(content='299.0', name='get_city_price', call_id='', is_error=False)]\n"
     ]
    },
    {
     "data": {
      "text/plain": [
       "\"Sure, London it is! Get ready for some tea and crumpets. A roundtrip ticket will only set you back $299.0, which is basically a steal for all the royal wave-watching you'll be doing!\""
      ]
     },
     "execution_count": 13,
     "metadata": {},
     "output_type": "execute_result"
    }
   ],
   "source": [
    "response = await smart_agent.on_messages([message], cancellation_token=CancellationToken())\n",
    "for inner_message in response.inner_messages:\n",
    "    print(inner_message.content)\n",
    "response.chat_message.content"
   ]
  },
  {
   "cell_type": "code",
   "execution_count": null,
   "id": "e729ac2b-418b-4af0-a116-ce2e5f95cf10",
   "metadata": {},
   "outputs": [],
   "source": []
  }
 ],
 "metadata": {
  "kernelspec": {
   "display_name": "Python 3 (ipykernel)",
   "language": "python",
   "name": "python3"
  },
  "language_info": {
   "codemirror_mode": {
    "name": "ipython",
    "version": 3
   },
   "file_extension": ".py",
   "mimetype": "text/x-python",
   "name": "python",
   "nbconvert_exporter": "python",
   "pygments_lexer": "ipython3",
   "version": "3.12.3"
  }
 },
 "nbformat": 4,
 "nbformat_minor": 5
}
