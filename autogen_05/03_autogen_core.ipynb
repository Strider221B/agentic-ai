{
 "cells": [
  {
   "cell_type": "code",
   "execution_count": 1,
   "id": "523bf991-9eaa-4516-ba80-f19b749738b1",
   "metadata": {
    "execution": {
     "iopub.execute_input": "2025-08-03T10:45:45.222195Z",
     "iopub.status.busy": "2025-08-03T10:45:45.221843Z",
     "iopub.status.idle": "2025-08-03T10:45:45.253336Z",
     "shell.execute_reply": "2025-08-03T10:45:45.252188Z",
     "shell.execute_reply.started": "2025-08-03T10:45:45.222168Z"
    }
   },
   "outputs": [],
   "source": [
    "import os\n",
    "os.chdir('./../')"
   ]
  },
  {
   "cell_type": "code",
   "execution_count": 2,
   "id": "415e9796-9716-4a7b-a267-e7cb9c93101a",
   "metadata": {
    "execution": {
     "iopub.execute_input": "2025-08-03T10:46:10.502958Z",
     "iopub.status.busy": "2025-08-03T10:46:10.502685Z",
     "iopub.status.idle": "2025-08-03T10:46:11.578558Z",
     "shell.execute_reply": "2025-08-03T10:46:11.577712Z",
     "shell.execute_reply.started": "2025-08-03T10:46:10.502939Z"
    }
   },
   "outputs": [],
   "source": [
    "from dotenv import load_dotenv\n",
    "\n",
    "from autogen_core import AgentId, MessageContext, RoutedAgent, message_handler\n",
    "from autogen_core import SingleThreadedAgentRuntime\n",
    "from autogen_agentchat.agents import AssistantAgent\n",
    "from autogen_agentchat.messages import TextMessage\n",
    "from autogen_ext.models.openai import OpenAIChatCompletionClient\n",
    "from dataclasses import dataclass\n",
    "\n",
    "load_dotenv(override=True)\n",
    "\n",
    "from common.constants import Constants"
   ]
  },
  {
   "cell_type": "code",
   "execution_count": 3,
   "id": "d52aa284-7ee8-44c2-910a-b4c5971735f5",
   "metadata": {
    "execution": {
     "iopub.execute_input": "2025-08-03T10:46:20.173983Z",
     "iopub.status.busy": "2025-08-03T10:46:20.173463Z",
     "iopub.status.idle": "2025-08-03T10:46:20.179120Z",
     "shell.execute_reply": "2025-08-03T10:46:20.178098Z",
     "shell.execute_reply.started": "2025-08-03T10:46:20.173964Z"
    }
   },
   "outputs": [],
   "source": [
    "@dataclass\n",
    "class Message:\n",
    "    content: str"
   ]
  },
  {
   "cell_type": "code",
   "execution_count": 4,
   "id": "332945a1-84c0-4684-943c-524e58aeb3f3",
   "metadata": {
    "execution": {
     "iopub.execute_input": "2025-08-03T10:47:34.765173Z",
     "iopub.status.busy": "2025-08-03T10:47:34.764849Z",
     "iopub.status.idle": "2025-08-03T10:47:34.799306Z",
     "shell.execute_reply": "2025-08-03T10:47:34.798343Z",
     "shell.execute_reply.started": "2025-08-03T10:47:34.765154Z"
    }
   },
   "outputs": [],
   "source": [
    "class SimpleAgent(RoutedAgent):\n",
    "    def __init__(self) -> None:\n",
    "        super().__init__(\"Simple\")\n",
    "\n",
    "    @message_handler\n",
    "    async def on_my_message(self, message: Message, ctx: MessageContext) -> Message:\n",
    "        return Message(content=f\"This is {self.id.type}-{self.id.key}. You said '{message.content}' and I disagree.\")"
   ]
  },
  {
   "cell_type": "code",
   "execution_count": 5,
   "id": "e928fb09-b67d-4510-9469-405ff86991bc",
   "metadata": {
    "execution": {
     "iopub.execute_input": "2025-08-03T10:51:41.334626Z",
     "iopub.status.busy": "2025-08-03T10:51:41.334287Z",
     "iopub.status.idle": "2025-08-03T10:51:41.343164Z",
     "shell.execute_reply": "2025-08-03T10:51:41.342386Z",
     "shell.execute_reply.started": "2025-08-03T10:51:41.334608Z"
    }
   },
   "outputs": [
    {
     "data": {
      "text/plain": [
       "AgentType(type='simple_agent')"
      ]
     },
     "execution_count": 5,
     "metadata": {},
     "output_type": "execute_result"
    }
   ],
   "source": [
    "runtime = SingleThreadedAgentRuntime()\n",
    "await SimpleAgent.register(runtime, \"simple_agent\", lambda: SimpleAgent())"
   ]
  },
  {
   "cell_type": "code",
   "execution_count": 6,
   "id": "b439fe43-acb5-4546-9066-b240530388b3",
   "metadata": {
    "execution": {
     "iopub.execute_input": "2025-08-03T10:51:49.530646Z",
     "iopub.status.busy": "2025-08-03T10:51:49.530356Z",
     "iopub.status.idle": "2025-08-03T10:51:49.535316Z",
     "shell.execute_reply": "2025-08-03T10:51:49.534325Z",
     "shell.execute_reply.started": "2025-08-03T10:51:49.530628Z"
    }
   },
   "outputs": [],
   "source": [
    "runtime.start()"
   ]
  },
  {
   "cell_type": "code",
   "execution_count": 7,
   "id": "2097f326-98e5-4036-8fbe-e42e271907b9",
   "metadata": {
    "execution": {
     "iopub.execute_input": "2025-08-03T10:52:16.789537Z",
     "iopub.status.busy": "2025-08-03T10:52:16.789265Z",
     "iopub.status.idle": "2025-08-03T10:52:16.795884Z",
     "shell.execute_reply": "2025-08-03T10:52:16.794779Z",
     "shell.execute_reply.started": "2025-08-03T10:52:16.789519Z"
    }
   },
   "outputs": [
    {
     "name": "stdout",
     "output_type": "stream",
     "text": [
      ">>> This is simple_agent-default. You said 'Well hi there!' and I disagree.\n"
     ]
    }
   ],
   "source": [
    "agent_id = AgentId(\"simple_agent\", \"default\")\n",
    "response = await runtime.send_message(Message(\"Well hi there!\"), agent_id)\n",
    "print(\">>>\", response.content)"
   ]
  },
  {
   "cell_type": "code",
   "execution_count": 8,
   "id": "8ac6445b-87e4-4cbb-8161-dd107725e7bd",
   "metadata": {
    "execution": {
     "iopub.execute_input": "2025-08-03T10:52:31.372499Z",
     "iopub.status.busy": "2025-08-03T10:52:31.372239Z",
     "iopub.status.idle": "2025-08-03T10:52:31.376402Z",
     "shell.execute_reply": "2025-08-03T10:52:31.375568Z",
     "shell.execute_reply.started": "2025-08-03T10:52:31.372481Z"
    }
   },
   "outputs": [],
   "source": [
    "await runtime.stop()\n",
    "await runtime.close()"
   ]
  },
  {
   "cell_type": "code",
   "execution_count": 9,
   "id": "c0e7cd54-62d7-4015-ba8a-e36ec715969d",
   "metadata": {
    "execution": {
     "iopub.execute_input": "2025-08-03T10:54:55.953264Z",
     "iopub.status.busy": "2025-08-03T10:54:55.952878Z",
     "iopub.status.idle": "2025-08-03T10:54:55.960512Z",
     "shell.execute_reply": "2025-08-03T10:54:55.959365Z",
     "shell.execute_reply.started": "2025-08-03T10:54:55.953236Z"
    }
   },
   "outputs": [],
   "source": [
    "from autogen_core.models import ModelFamily\n",
    "\n",
    "class MyLLMAgent(RoutedAgent):\n",
    "    def __init__(self) -> None:\n",
    "        super().__init__(\"LLMAgent\")\n",
    "        model_client = OpenAIChatCompletionClient(model=Constants.GEMINI_MODEL_LITE,\n",
    "                                                  api_key=os.getenv(Constants.GOOGLE_API_KEY),\n",
    "                                                  model_info={'vision': True,\n",
    "                                                              'function_calling': True,\n",
    "                                                              'json_output': True,\n",
    "                                                              'family': ModelFamily.GEMINI_2_0_FLASH,\n",
    "                                                              'structured_output': True})\n",
    "        \n",
    "        self._delegate = AssistantAgent(\"LLMAgent\", model_client=model_client)\n",
    "\n",
    "    @message_handler\n",
    "    async def handle_my_message_type(self, message: Message, ctx: MessageContext) -> Message:\n",
    "        print(f\"{self.id.type} received message: {message.content}\")\n",
    "        text_message = TextMessage(content=message.content, source=\"user\")\n",
    "        response = await self._delegate.on_messages([text_message], ctx.cancellation_token)\n",
    "        reply = response.chat_message.content\n",
    "        print(f\"{self.id.type} responded: {reply}\")\n",
    "        return Message(content=reply)"
   ]
  },
  {
   "cell_type": "code",
   "execution_count": 10,
   "id": "1e499a83-011d-4e91-8de3-f29739f10e80",
   "metadata": {
    "execution": {
     "iopub.execute_input": "2025-08-03T10:55:40.320173Z",
     "iopub.status.busy": "2025-08-03T10:55:40.319909Z",
     "iopub.status.idle": "2025-08-03T10:55:40.326365Z",
     "shell.execute_reply": "2025-08-03T10:55:40.325495Z",
     "shell.execute_reply.started": "2025-08-03T10:55:40.320157Z"
    }
   },
   "outputs": [
    {
     "data": {
      "text/plain": [
       "AgentType(type='LLMAgent')"
      ]
     },
     "execution_count": 10,
     "metadata": {},
     "output_type": "execute_result"
    }
   ],
   "source": [
    "runtime = SingleThreadedAgentRuntime()\n",
    "await SimpleAgent.register(runtime, \"simple_agent\", lambda: SimpleAgent())\n",
    "await MyLLMAgent.register(runtime, \"LLMAgent\", lambda: MyLLMAgent())"
   ]
  },
  {
   "cell_type": "code",
   "execution_count": 11,
   "id": "ef5df841-98d3-47fa-8ce5-bd8daf993b91",
   "metadata": {
    "execution": {
     "iopub.execute_input": "2025-08-03T10:56:13.926411Z",
     "iopub.status.busy": "2025-08-03T10:56:13.926159Z",
     "iopub.status.idle": "2025-08-03T10:56:16.531739Z",
     "shell.execute_reply": "2025-08-03T10:56:16.530751Z",
     "shell.execute_reply.started": "2025-08-03T10:56:13.926394Z"
    }
   },
   "outputs": [
    {
     "name": "stdout",
     "output_type": "stream",
     "text": [
      "LLMAgent received message: Hi there!\n",
      "LLMAgent responded: Hi there! How can I help you today?\n",
      ">>> Hi there! How can I help you today?\n",
      ">>> This is simple_agent-default. You said 'Hi there! How can I help you today?' and I disagree.\n",
      "LLMAgent received message: This is simple_agent-default. You said 'Hi there! How can I help you today?' and I disagree.\n",
      "LLMAgent responded: I apologize if my previous response was not to your liking. As a large language model, I am still under development and always striving to improve. Can you please tell me what you would prefer me to say or how I can assist you better? I want to make sure I'm being as helpful as possible.\n"
     ]
    }
   ],
   "source": [
    "runtime.start()  # Start processing messages in the background.\n",
    "response = await runtime.send_message(Message(\"Hi there!\"), AgentId(\"LLMAgent\", \"default\"))\n",
    "print(\">>>\", response.content)\n",
    "response =  await runtime.send_message(Message(response.content), AgentId(\"simple_agent\", \"default\"))\n",
    "print(\">>>\", response.content)\n",
    "response = await runtime.send_message(Message(response.content), AgentId(\"LLMAgent\", \"default\"))"
   ]
  },
  {
   "cell_type": "code",
   "execution_count": 12,
   "id": "fa0fb585-cfba-4e2f-a7f6-eac19bbc7bf2",
   "metadata": {
    "execution": {
     "iopub.execute_input": "2025-08-03T10:56:42.307670Z",
     "iopub.status.busy": "2025-08-03T10:56:42.307365Z",
     "iopub.status.idle": "2025-08-03T10:56:42.311681Z",
     "shell.execute_reply": "2025-08-03T10:56:42.310711Z",
     "shell.execute_reply.started": "2025-08-03T10:56:42.307650Z"
    }
   },
   "outputs": [],
   "source": [
    "await runtime.stop()\n",
    "await runtime.close()"
   ]
  },
  {
   "cell_type": "code",
   "execution_count": 13,
   "id": "ae32e5f0-2ea6-4160-9be9-764099e44952",
   "metadata": {
    "execution": {
     "iopub.execute_input": "2025-08-03T10:59:43.094021Z",
     "iopub.status.busy": "2025-08-03T10:59:43.093737Z",
     "iopub.status.idle": "2025-08-03T10:59:43.102084Z",
     "shell.execute_reply": "2025-08-03T10:59:43.101138Z",
     "shell.execute_reply.started": "2025-08-03T10:59:43.094002Z"
    }
   },
   "outputs": [],
   "source": [
    "class Player1Agent(RoutedAgent):\n",
    "    def __init__(self, name: str) -> None:\n",
    "        super().__init__(name)\n",
    "        model_client = OpenAIChatCompletionClient(model=Constants.GEMINI_MODEL_LITE,\n",
    "                                                  api_key=os.getenv(Constants.GOOGLE_API_KEY),\n",
    "                                                  model_info={'vision': True,\n",
    "                                                              'function_calling': True,\n",
    "                                                              'json_output': True,\n",
    "                                                              'family': ModelFamily.GEMINI_2_0_FLASH,\n",
    "                                                              'structured_output': True},\n",
    "                                                  temperature=1.0)\n",
    "        self._delegate = AssistantAgent(name, model_client=model_client)\n",
    "\n",
    "    @message_handler\n",
    "    async def handle_my_message_type(self, message: Message, ctx: MessageContext) -> Message:\n",
    "        text_message = TextMessage(content=message.content, source=\"user\")\n",
    "        response = await self._delegate.on_messages([text_message], ctx.cancellation_token)\n",
    "        return Message(content=response.chat_message.content)\n",
    "    \n",
    "class Player2Agent(RoutedAgent):\n",
    "    def __init__(self, name: str) -> None:\n",
    "        super().__init__(name)\n",
    "        model_client = OpenAIChatCompletionClient(model=Constants.GEMINI_MODEL_LITE,\n",
    "                                                  api_key=os.getenv(Constants.GOOGLE_API_KEY),\n",
    "                                                  model_info={'vision': True,\n",
    "                                                              'function_calling': True,\n",
    "                                                              'json_output': True,\n",
    "                                                              'family': ModelFamily.GEMINI_2_0_FLASH,\n",
    "                                                              'structured_output': True},\n",
    "                                                  temperature=1.0)\n",
    "        self._delegate = AssistantAgent(name, model_client=model_client)\n",
    "\n",
    "    @message_handler\n",
    "    async def handle_my_message_type(self, message: Message, ctx: MessageContext) -> Message:\n",
    "        text_message = TextMessage(content=message.content, source=\"user\")\n",
    "        response = await self._delegate.on_messages([text_message], ctx.cancellation_token)\n",
    "        return Message(content=response.chat_message.content)"
   ]
  },
  {
   "cell_type": "code",
   "execution_count": 14,
   "id": "8a4ce43c-eee0-4e6a-945b-b00c22decc03",
   "metadata": {
    "execution": {
     "iopub.execute_input": "2025-08-03T11:01:49.563547Z",
     "iopub.status.busy": "2025-08-03T11:01:49.563172Z",
     "iopub.status.idle": "2025-08-03T11:01:49.570610Z",
     "shell.execute_reply": "2025-08-03T11:01:49.569631Z",
     "shell.execute_reply.started": "2025-08-03T11:01:49.563527Z"
    }
   },
   "outputs": [],
   "source": [
    "JUDGE = \"You are judging a game of rock, paper, scissors. The players have made these choices:\\n\"\n",
    "\n",
    "class RockPaperScissorsAgent(RoutedAgent):\n",
    "    def __init__(self, name: str) -> None:\n",
    "        super().__init__(name)\n",
    "        model_client = OpenAIChatCompletionClient(model=Constants.GEMINI_MODEL_LITE,\n",
    "                                                  api_key=os.getenv(Constants.GOOGLE_API_KEY),\n",
    "                                                  model_info={'vision': True,\n",
    "                                                              'function_calling': True,\n",
    "                                                              'json_output': True,\n",
    "                                                              'family': ModelFamily.GEMINI_2_0_FLASH,\n",
    "                                                              'structured_output': True},\n",
    "                                                  temperature=1.0)\n",
    "        self._delegate = AssistantAgent(name, model_client=model_client)\n",
    "\n",
    "    @message_handler\n",
    "    async def handle_my_message_type(self, message: Message, ctx: MessageContext) -> Message:\n",
    "        instruction = \"You are playing rock, paper, scissors. Respond only with the one word, one of the following: rock, paper, or scissors.\"\n",
    "        message = Message(content=instruction)\n",
    "        inner_1 = AgentId(\"player1\", \"default\")\n",
    "        inner_2 = AgentId(\"player2\", \"default\")\n",
    "        response1 = await self.send_message(message, inner_1)\n",
    "        response2 = await self.send_message(message, inner_2)\n",
    "        result = f\"Player 1: {response1.content}\\nPlayer 2: {response2.content}\\n\"\n",
    "        judgement = f\"{JUDGE}{result}Who wins?\"\n",
    "        message = TextMessage(content=judgement, source=\"user\")\n",
    "        response = await self._delegate.on_messages([message], ctx.cancellation_token)\n",
    "        return Message(content=result + response.chat_message.content)"
   ]
  },
  {
   "cell_type": "code",
   "execution_count": 15,
   "id": "c754fbbe-a2c8-4686-89d3-3dce27b9d933",
   "metadata": {
    "execution": {
     "iopub.execute_input": "2025-08-03T11:02:11.377515Z",
     "iopub.status.busy": "2025-08-03T11:02:11.377237Z",
     "iopub.status.idle": "2025-08-03T11:02:11.383073Z",
     "shell.execute_reply": "2025-08-03T11:02:11.381987Z",
     "shell.execute_reply.started": "2025-08-03T11:02:11.377498Z"
    }
   },
   "outputs": [],
   "source": [
    "runtime = SingleThreadedAgentRuntime()\n",
    "await Player1Agent.register(runtime, \"player1\", lambda: Player1Agent(\"player1\"))\n",
    "await Player2Agent.register(runtime, \"player2\", lambda: Player2Agent(\"player2\"))\n",
    "await RockPaperScissorsAgent.register(runtime, \"rock_paper_scissors\", lambda: RockPaperScissorsAgent(\"rock_paper_scissors\"))\n",
    "runtime.start()"
   ]
  },
  {
   "cell_type": "code",
   "execution_count": 16,
   "id": "255c7d02-6ee9-4f24-8ba5-596a51b544d8",
   "metadata": {
    "execution": {
     "iopub.execute_input": "2025-08-03T11:02:29.052489Z",
     "iopub.status.busy": "2025-08-03T11:02:29.052210Z",
     "iopub.status.idle": "2025-08-03T11:02:31.701811Z",
     "shell.execute_reply": "2025-08-03T11:02:31.700984Z",
     "shell.execute_reply.started": "2025-08-03T11:02:29.052471Z"
    }
   },
   "outputs": [
    {
     "name": "stdout",
     "output_type": "stream",
     "text": [
      "Player 1: rock\n",
      "TERMINATE\n",
      "Player 2: paper\n",
      "TERMINATE\n",
      "Paper covers rock, so Player 2 wins. TERMINATE\n"
     ]
    }
   ],
   "source": [
    "agent_id = AgentId(\"rock_paper_scissors\", \"default\")\n",
    "message = Message(content=\"go\")\n",
    "response = await runtime.send_message(message, agent_id)\n",
    "print(response.content)"
   ]
  },
  {
   "cell_type": "code",
   "execution_count": 17,
   "id": "11dd766a-ed79-408d-bf3d-3517dea86960",
   "metadata": {
    "execution": {
     "iopub.execute_input": "2025-08-03T11:02:46.484188Z",
     "iopub.status.busy": "2025-08-03T11:02:46.483912Z",
     "iopub.status.idle": "2025-08-03T11:02:46.488118Z",
     "shell.execute_reply": "2025-08-03T11:02:46.487188Z",
     "shell.execute_reply.started": "2025-08-03T11:02:46.484170Z"
    }
   },
   "outputs": [],
   "source": [
    "await runtime.stop()\n",
    "await runtime.close()"
   ]
  },
  {
   "cell_type": "code",
   "execution_count": null,
   "id": "d5837df5-dd42-4f72-819c-14a6b3941918",
   "metadata": {},
   "outputs": [],
   "source": []
  }
 ],
 "metadata": {
  "kernelspec": {
   "display_name": "Python 3 (ipykernel)",
   "language": "python",
   "name": "python3"
  },
  "language_info": {
   "codemirror_mode": {
    "name": "ipython",
    "version": 3
   },
   "file_extension": ".py",
   "mimetype": "text/x-python",
   "name": "python",
   "nbconvert_exporter": "python",
   "pygments_lexer": "ipython3",
   "version": "3.12.11"
  }
 },
 "nbformat": 4,
 "nbformat_minor": 5
}
